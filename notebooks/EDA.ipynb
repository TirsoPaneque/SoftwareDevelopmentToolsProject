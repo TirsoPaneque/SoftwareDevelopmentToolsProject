{
  "cells": [
    {
      "cell_type": "markdown",
      "metadata": {
        "id": "exIY1CeTVxIm"
      },
      "source": [
        "# This file is supposed to perform an EDA on the vehicles_us dataset that contains information on diferent vehicles in the US. This task is supposed to serve as a first step towards building a web app analizing this data"
      ]
    },
    {
      "cell_type": "code",
      "execution_count": 143,
      "metadata": {},
      "outputs": [],
      "source": [
        "# I explain later why are this lines are commented\n",
        "# from google.colab import drive\n",
        "# drive.mount('/content/drive')\n"
      ]
    },
    {
      "cell_type": "markdown",
      "metadata": {
        "id": "6jhd2pN3VxIo"
      },
      "source": [
        "# Libraries"
      ]
    },
    {
      "cell_type": "code",
      "execution_count": 144,
      "metadata": {
        "id": "egs0y8XYVxIo"
      },
      "outputs": [],
      "source": [
        "import pandas as pd\n",
        "from scipy.stats import mode\n",
        "import numpy as np\n",
        "import seaborn as sns\n",
        "import matplotlib.pyplot as plt\n",
        "import math\n"
      ]
    },
    {
      "cell_type": "markdown",
      "metadata": {
        "id": "nm_My9muVxIp"
      },
      "source": [
        "# Helpful Functions"
      ]
    },
    {
      "cell_type": "markdown",
      "metadata": {
        "id": "v0FPvJNrVxIq"
      },
      "source": [
        "## Dealing with NaN"
      ]
    },
    {
      "cell_type": "code",
      "execution_count": 145,
      "metadata": {
        "id": "ZwvSm97sVxIq"
      },
      "outputs": [],
      "source": [
        "def how_many_nan(df, show_nan=False):\n",
        "    \"\"\" This function will show us how many NaN are in each column and either show all the NaN values \"\"\"\n",
        "\n",
        "    # First we are gonna show all the nan if requested, otherwise show the nan count for each column\n",
        "    if show_nan:\n",
        "        return df[df.isnull().any(axis=1)]\n",
        "\n",
        "    for i in df.keys():\n",
        "        print(f'{i}: {df.shape[0] - df[i].count()}')\n",
        "\n",
        "    print('\\n\\n\\n')\n",
        "\n",
        "\n"
      ]
    },
    {
      "cell_type": "markdown",
      "metadata": {
        "id": "jrd3gHBbgLgO"
      },
      "source": [
        "## Plotting Helpers"
      ]
    },
    {
      "cell_type": "code",
      "execution_count": 146,
      "metadata": {
        "id": "Lv61zeV-gNWg"
      },
      "outputs": [],
      "source": [
        "def plot_numeric_histograms(df, n_cols=None):\n",
        "    # Select numeric columns\n",
        "    numeric_columns = df.select_dtypes(include='number').columns\n",
        "\n",
        "    # Calculate the number of columns in the grid\n",
        "    if n_cols is None:\n",
        "        n_cols = int(math.ceil(math.sqrt(len(numeric_columns))))\n",
        "\n",
        "    # Calculate the number of rows in the grid\n",
        "    n_rows = (len(numeric_columns) + n_cols - 1) // n_cols\n",
        "\n",
        "    # Create a grid of subplots\n",
        "    fig, axes = plt.subplots(n_rows, n_cols, figsize=(15, 5 * n_rows))\n",
        "\n",
        "    # Flatten the 2D array of subplots\n",
        "    axes = axes.flatten()\n",
        "\n",
        "    # Plot histograms for each numeric column\n",
        "    for i, column in enumerate(numeric_columns):\n",
        "        sns.histplot(df[column], bins=20, kde=False, color='skyblue', ax=axes[i])\n",
        "        axes[i].set_title(f'Histogram of {column}')\n",
        "        axes[i].set_xlabel('Value')\n",
        "        axes[i].set_ylabel('Frequency')\n",
        "\n",
        "    # Adjust layout to prevent overlapping\n",
        "    plt.tight_layout()\n",
        "    plt.show()"
      ]
    },
    {
      "cell_type": "code",
      "execution_count": 147,
      "metadata": {
        "id": "ebuV42-5i6Ah"
      },
      "outputs": [],
      "source": [
        "def plot_categorical_bars(df, exclude_columns=None):\n",
        "    # Select categorical columns\n",
        "    categorical_columns = df.select_dtypes(include='object').columns\n",
        "\n",
        "    # Exclude specified columns\n",
        "    if exclude_columns:\n",
        "        categorical_columns = [col for col in categorical_columns if col not in exclude_columns]\n",
        "\n",
        "    # Calculate the number of rows and columns in the grid\n",
        "    n_cols = 3  # You can adjust the number of columns based on your preference\n",
        "    n_rows = (len(categorical_columns) + n_cols - 1) // n_cols\n",
        "\n",
        "    # Create a grid of subplots\n",
        "    fig, axes = plt.subplots(n_rows, n_cols, figsize=(15, 5 * n_rows))\n",
        "\n",
        "    # Flatten the 2D array of subplots\n",
        "    axes = axes.flatten()\n",
        "\n",
        "    # Plot bar plots for each categorical column\n",
        "    for i, column in enumerate(categorical_columns):\n",
        "        sns.countplot(x=column, data=df, ax=axes[i])\n",
        "        axes[i].set_title(f'Bar Plot of {column}')\n",
        "        axes[i].set_xlabel('Category')\n",
        "        axes[i].set_ylabel('Count')\n",
        "\n",
        "    # Adjust layout to prevent overlapping\n",
        "    plt.tight_layout()\n",
        "    plt.show()\n"
      ]
    },
    {
      "cell_type": "markdown",
      "metadata": {
        "id": "jDrXkYHNVxIq"
      },
      "source": [
        "# Loading the Data"
      ]
    },
    {
      "cell_type": "code",
      "execution_count": 148,
      "metadata": {
        "colab": {
          "base_uri": "https://localhost:8080/",
          "height": 600
        },
        "id": "zccVA4m9VxIr",
        "outputId": "8782d1c3-1e22-45f4-eb5c-0dced0caf92d"
      },
      "outputs": [
        {
          "data": {
            "text/html": [
              "<div>\n",
              "<style scoped>\n",
              "    .dataframe tbody tr th:only-of-type {\n",
              "        vertical-align: middle;\n",
              "    }\n",
              "\n",
              "    .dataframe tbody tr th {\n",
              "        vertical-align: top;\n",
              "    }\n",
              "\n",
              "    .dataframe thead th {\n",
              "        text-align: right;\n",
              "    }\n",
              "</style>\n",
              "<table border=\"1\" class=\"dataframe\">\n",
              "  <thead>\n",
              "    <tr style=\"text-align: right;\">\n",
              "      <th></th>\n",
              "      <th>price</th>\n",
              "      <th>model_year</th>\n",
              "      <th>model</th>\n",
              "      <th>condition</th>\n",
              "      <th>cylinders</th>\n",
              "      <th>fuel</th>\n",
              "      <th>odometer</th>\n",
              "      <th>transmission</th>\n",
              "      <th>type</th>\n",
              "      <th>paint_color</th>\n",
              "      <th>is_4wd</th>\n",
              "      <th>date_posted</th>\n",
              "      <th>days_listed</th>\n",
              "    </tr>\n",
              "  </thead>\n",
              "  <tbody>\n",
              "    <tr>\n",
              "      <th>0</th>\n",
              "      <td>9400</td>\n",
              "      <td>2011.0</td>\n",
              "      <td>bmw x5</td>\n",
              "      <td>good</td>\n",
              "      <td>6.0</td>\n",
              "      <td>gas</td>\n",
              "      <td>145000.0</td>\n",
              "      <td>automatic</td>\n",
              "      <td>SUV</td>\n",
              "      <td>NaN</td>\n",
              "      <td>1.0</td>\n",
              "      <td>2018-06-23</td>\n",
              "      <td>19</td>\n",
              "    </tr>\n",
              "    <tr>\n",
              "      <th>1</th>\n",
              "      <td>25500</td>\n",
              "      <td>NaN</td>\n",
              "      <td>ford f-150</td>\n",
              "      <td>good</td>\n",
              "      <td>6.0</td>\n",
              "      <td>gas</td>\n",
              "      <td>88705.0</td>\n",
              "      <td>automatic</td>\n",
              "      <td>pickup</td>\n",
              "      <td>white</td>\n",
              "      <td>1.0</td>\n",
              "      <td>2018-10-19</td>\n",
              "      <td>50</td>\n",
              "    </tr>\n",
              "    <tr>\n",
              "      <th>2</th>\n",
              "      <td>5500</td>\n",
              "      <td>2013.0</td>\n",
              "      <td>hyundai sonata</td>\n",
              "      <td>like new</td>\n",
              "      <td>4.0</td>\n",
              "      <td>gas</td>\n",
              "      <td>110000.0</td>\n",
              "      <td>automatic</td>\n",
              "      <td>sedan</td>\n",
              "      <td>red</td>\n",
              "      <td>NaN</td>\n",
              "      <td>2019-02-07</td>\n",
              "      <td>79</td>\n",
              "    </tr>\n",
              "    <tr>\n",
              "      <th>3</th>\n",
              "      <td>1500</td>\n",
              "      <td>2003.0</td>\n",
              "      <td>ford f-150</td>\n",
              "      <td>fair</td>\n",
              "      <td>8.0</td>\n",
              "      <td>gas</td>\n",
              "      <td>NaN</td>\n",
              "      <td>automatic</td>\n",
              "      <td>pickup</td>\n",
              "      <td>NaN</td>\n",
              "      <td>NaN</td>\n",
              "      <td>2019-03-22</td>\n",
              "      <td>9</td>\n",
              "    </tr>\n",
              "    <tr>\n",
              "      <th>4</th>\n",
              "      <td>14900</td>\n",
              "      <td>2017.0</td>\n",
              "      <td>chrysler 200</td>\n",
              "      <td>excellent</td>\n",
              "      <td>4.0</td>\n",
              "      <td>gas</td>\n",
              "      <td>80903.0</td>\n",
              "      <td>automatic</td>\n",
              "      <td>sedan</td>\n",
              "      <td>black</td>\n",
              "      <td>NaN</td>\n",
              "      <td>2019-04-02</td>\n",
              "      <td>28</td>\n",
              "    </tr>\n",
              "    <tr>\n",
              "      <th>...</th>\n",
              "      <td>...</td>\n",
              "      <td>...</td>\n",
              "      <td>...</td>\n",
              "      <td>...</td>\n",
              "      <td>...</td>\n",
              "      <td>...</td>\n",
              "      <td>...</td>\n",
              "      <td>...</td>\n",
              "      <td>...</td>\n",
              "      <td>...</td>\n",
              "      <td>...</td>\n",
              "      <td>...</td>\n",
              "      <td>...</td>\n",
              "    </tr>\n",
              "    <tr>\n",
              "      <th>51520</th>\n",
              "      <td>9249</td>\n",
              "      <td>2013.0</td>\n",
              "      <td>nissan maxima</td>\n",
              "      <td>like new</td>\n",
              "      <td>6.0</td>\n",
              "      <td>gas</td>\n",
              "      <td>88136.0</td>\n",
              "      <td>automatic</td>\n",
              "      <td>sedan</td>\n",
              "      <td>black</td>\n",
              "      <td>NaN</td>\n",
              "      <td>2018-10-03</td>\n",
              "      <td>37</td>\n",
              "    </tr>\n",
              "    <tr>\n",
              "      <th>51521</th>\n",
              "      <td>2700</td>\n",
              "      <td>2002.0</td>\n",
              "      <td>honda civic</td>\n",
              "      <td>salvage</td>\n",
              "      <td>4.0</td>\n",
              "      <td>gas</td>\n",
              "      <td>181500.0</td>\n",
              "      <td>automatic</td>\n",
              "      <td>sedan</td>\n",
              "      <td>white</td>\n",
              "      <td>NaN</td>\n",
              "      <td>2018-11-14</td>\n",
              "      <td>22</td>\n",
              "    </tr>\n",
              "    <tr>\n",
              "      <th>51522</th>\n",
              "      <td>3950</td>\n",
              "      <td>2009.0</td>\n",
              "      <td>hyundai sonata</td>\n",
              "      <td>excellent</td>\n",
              "      <td>4.0</td>\n",
              "      <td>gas</td>\n",
              "      <td>128000.0</td>\n",
              "      <td>automatic</td>\n",
              "      <td>sedan</td>\n",
              "      <td>blue</td>\n",
              "      <td>NaN</td>\n",
              "      <td>2018-11-15</td>\n",
              "      <td>32</td>\n",
              "    </tr>\n",
              "    <tr>\n",
              "      <th>51523</th>\n",
              "      <td>7455</td>\n",
              "      <td>2013.0</td>\n",
              "      <td>toyota corolla</td>\n",
              "      <td>good</td>\n",
              "      <td>4.0</td>\n",
              "      <td>gas</td>\n",
              "      <td>139573.0</td>\n",
              "      <td>automatic</td>\n",
              "      <td>sedan</td>\n",
              "      <td>black</td>\n",
              "      <td>NaN</td>\n",
              "      <td>2018-07-02</td>\n",
              "      <td>71</td>\n",
              "    </tr>\n",
              "    <tr>\n",
              "      <th>51524</th>\n",
              "      <td>6300</td>\n",
              "      <td>2014.0</td>\n",
              "      <td>nissan altima</td>\n",
              "      <td>good</td>\n",
              "      <td>4.0</td>\n",
              "      <td>gas</td>\n",
              "      <td>NaN</td>\n",
              "      <td>automatic</td>\n",
              "      <td>sedan</td>\n",
              "      <td>NaN</td>\n",
              "      <td>NaN</td>\n",
              "      <td>2018-06-05</td>\n",
              "      <td>10</td>\n",
              "    </tr>\n",
              "  </tbody>\n",
              "</table>\n",
              "<p>51525 rows × 13 columns</p>\n",
              "</div>"
            ],
            "text/plain": [
              "       price  model_year           model  condition  cylinders fuel  odometer  \\\n",
              "0       9400      2011.0          bmw x5       good        6.0  gas  145000.0   \n",
              "1      25500         NaN      ford f-150       good        6.0  gas   88705.0   \n",
              "2       5500      2013.0  hyundai sonata   like new        4.0  gas  110000.0   \n",
              "3       1500      2003.0      ford f-150       fair        8.0  gas       NaN   \n",
              "4      14900      2017.0    chrysler 200  excellent        4.0  gas   80903.0   \n",
              "...      ...         ...             ...        ...        ...  ...       ...   \n",
              "51520   9249      2013.0   nissan maxima   like new        6.0  gas   88136.0   \n",
              "51521   2700      2002.0     honda civic    salvage        4.0  gas  181500.0   \n",
              "51522   3950      2009.0  hyundai sonata  excellent        4.0  gas  128000.0   \n",
              "51523   7455      2013.0  toyota corolla       good        4.0  gas  139573.0   \n",
              "51524   6300      2014.0   nissan altima       good        4.0  gas       NaN   \n",
              "\n",
              "      transmission    type paint_color  is_4wd date_posted  days_listed  \n",
              "0        automatic     SUV         NaN     1.0  2018-06-23           19  \n",
              "1        automatic  pickup       white     1.0  2018-10-19           50  \n",
              "2        automatic   sedan         red     NaN  2019-02-07           79  \n",
              "3        automatic  pickup         NaN     NaN  2019-03-22            9  \n",
              "4        automatic   sedan       black     NaN  2019-04-02           28  \n",
              "...            ...     ...         ...     ...         ...          ...  \n",
              "51520    automatic   sedan       black     NaN  2018-10-03           37  \n",
              "51521    automatic   sedan       white     NaN  2018-11-14           22  \n",
              "51522    automatic   sedan        blue     NaN  2018-11-15           32  \n",
              "51523    automatic   sedan       black     NaN  2018-07-02           71  \n",
              "51524    automatic   sedan         NaN     NaN  2018-06-05           10  \n",
              "\n",
              "[51525 rows x 13 columns]"
            ]
          },
          "execution_count": 148,
          "metadata": {},
          "output_type": "execute_result"
        }
      ],
      "source": [
        "ds = pd.read_csv('../vehicles_us.csv')\n",
        "\n",
        "# Comment below is only because im working on Google colab and is easier to access my data if its stored in drive\n",
        "# ds=pd.read_csv('/content/drive/MyDrive/datasets/SoftwareDevelopmentToolsProject/vehicles_us.csv')\n",
        "\n",
        "ds"
      ]
    },
    {
      "cell_type": "markdown",
      "metadata": {
        "id": "xxnPcXnPVxIr"
      },
      "source": [
        "# Taking a first look"
      ]
    },
    {
      "cell_type": "code",
      "execution_count": 149,
      "metadata": {
        "colab": {
          "base_uri": "https://localhost:8080/"
        },
        "id": "2U-YYR9VVxIr",
        "outputId": "4effe1e7-49c2-4b70-87c1-bd8864be7afd"
      },
      "outputs": [
        {
          "name": "stdout",
          "output_type": "stream",
          "text": [
            "<class 'pandas.core.frame.DataFrame'>\n",
            "RangeIndex: 51525 entries, 0 to 51524\n",
            "Data columns (total 13 columns):\n",
            " #   Column        Non-Null Count  Dtype  \n",
            "---  ------        --------------  -----  \n",
            " 0   price         51525 non-null  int64  \n",
            " 1   model_year    47906 non-null  float64\n",
            " 2   model         51525 non-null  object \n",
            " 3   condition     51525 non-null  object \n",
            " 4   cylinders     46265 non-null  float64\n",
            " 5   fuel          51525 non-null  object \n",
            " 6   odometer      43633 non-null  float64\n",
            " 7   transmission  51525 non-null  object \n",
            " 8   type          51525 non-null  object \n",
            " 9   paint_color   42258 non-null  object \n",
            " 10  is_4wd        25572 non-null  float64\n",
            " 11  date_posted   51525 non-null  object \n",
            " 12  days_listed   51525 non-null  int64  \n",
            "dtypes: float64(4), int64(2), object(7)\n",
            "memory usage: 5.1+ MB\n"
          ]
        }
      ],
      "source": [
        "ds.info()"
      ]
    },
    {
      "cell_type": "markdown",
      "metadata": {},
      "source": [
        "We can se that there are both a few numerical and categorical columns missing values"
      ]
    },
    {
      "cell_type": "code",
      "execution_count": 150,
      "metadata": {
        "colab": {
          "base_uri": "https://localhost:8080/",
          "height": 300
        },
        "id": "WHrYeUSuVxIs",
        "outputId": "06c01772-cc29-4cc9-8487-1c26b97df298"
      },
      "outputs": [
        {
          "data": {
            "text/html": [
              "<div>\n",
              "<style scoped>\n",
              "    .dataframe tbody tr th:only-of-type {\n",
              "        vertical-align: middle;\n",
              "    }\n",
              "\n",
              "    .dataframe tbody tr th {\n",
              "        vertical-align: top;\n",
              "    }\n",
              "\n",
              "    .dataframe thead th {\n",
              "        text-align: right;\n",
              "    }\n",
              "</style>\n",
              "<table border=\"1\" class=\"dataframe\">\n",
              "  <thead>\n",
              "    <tr style=\"text-align: right;\">\n",
              "      <th></th>\n",
              "      <th>price</th>\n",
              "      <th>model_year</th>\n",
              "      <th>cylinders</th>\n",
              "      <th>odometer</th>\n",
              "      <th>is_4wd</th>\n",
              "      <th>days_listed</th>\n",
              "    </tr>\n",
              "  </thead>\n",
              "  <tbody>\n",
              "    <tr>\n",
              "      <th>count</th>\n",
              "      <td>51525.000000</td>\n",
              "      <td>47906.000000</td>\n",
              "      <td>46265.000000</td>\n",
              "      <td>43633.000000</td>\n",
              "      <td>25572.0</td>\n",
              "      <td>51525.00000</td>\n",
              "    </tr>\n",
              "    <tr>\n",
              "      <th>mean</th>\n",
              "      <td>12132.464920</td>\n",
              "      <td>2009.750470</td>\n",
              "      <td>6.125235</td>\n",
              "      <td>115553.461738</td>\n",
              "      <td>1.0</td>\n",
              "      <td>39.55476</td>\n",
              "    </tr>\n",
              "    <tr>\n",
              "      <th>std</th>\n",
              "      <td>10040.803015</td>\n",
              "      <td>6.282065</td>\n",
              "      <td>1.660360</td>\n",
              "      <td>65094.611341</td>\n",
              "      <td>0.0</td>\n",
              "      <td>28.20427</td>\n",
              "    </tr>\n",
              "    <tr>\n",
              "      <th>min</th>\n",
              "      <td>1.000000</td>\n",
              "      <td>1908.000000</td>\n",
              "      <td>3.000000</td>\n",
              "      <td>0.000000</td>\n",
              "      <td>1.0</td>\n",
              "      <td>0.00000</td>\n",
              "    </tr>\n",
              "    <tr>\n",
              "      <th>25%</th>\n",
              "      <td>5000.000000</td>\n",
              "      <td>2006.000000</td>\n",
              "      <td>4.000000</td>\n",
              "      <td>70000.000000</td>\n",
              "      <td>1.0</td>\n",
              "      <td>19.00000</td>\n",
              "    </tr>\n",
              "    <tr>\n",
              "      <th>50%</th>\n",
              "      <td>9000.000000</td>\n",
              "      <td>2011.000000</td>\n",
              "      <td>6.000000</td>\n",
              "      <td>113000.000000</td>\n",
              "      <td>1.0</td>\n",
              "      <td>33.00000</td>\n",
              "    </tr>\n",
              "    <tr>\n",
              "      <th>75%</th>\n",
              "      <td>16839.000000</td>\n",
              "      <td>2014.000000</td>\n",
              "      <td>8.000000</td>\n",
              "      <td>155000.000000</td>\n",
              "      <td>1.0</td>\n",
              "      <td>53.00000</td>\n",
              "    </tr>\n",
              "    <tr>\n",
              "      <th>max</th>\n",
              "      <td>375000.000000</td>\n",
              "      <td>2019.000000</td>\n",
              "      <td>12.000000</td>\n",
              "      <td>990000.000000</td>\n",
              "      <td>1.0</td>\n",
              "      <td>271.00000</td>\n",
              "    </tr>\n",
              "  </tbody>\n",
              "</table>\n",
              "</div>"
            ],
            "text/plain": [
              "               price    model_year     cylinders       odometer   is_4wd  \\\n",
              "count   51525.000000  47906.000000  46265.000000   43633.000000  25572.0   \n",
              "mean    12132.464920   2009.750470      6.125235  115553.461738      1.0   \n",
              "std     10040.803015      6.282065      1.660360   65094.611341      0.0   \n",
              "min         1.000000   1908.000000      3.000000       0.000000      1.0   \n",
              "25%      5000.000000   2006.000000      4.000000   70000.000000      1.0   \n",
              "50%      9000.000000   2011.000000      6.000000  113000.000000      1.0   \n",
              "75%     16839.000000   2014.000000      8.000000  155000.000000      1.0   \n",
              "max    375000.000000   2019.000000     12.000000  990000.000000      1.0   \n",
              "\n",
              "       days_listed  \n",
              "count  51525.00000  \n",
              "mean      39.55476  \n",
              "std       28.20427  \n",
              "min        0.00000  \n",
              "25%       19.00000  \n",
              "50%       33.00000  \n",
              "75%       53.00000  \n",
              "max      271.00000  "
            ]
          },
          "execution_count": 150,
          "metadata": {},
          "output_type": "execute_result"
        }
      ],
      "source": [
        "ds.describe()"
      ]
    },
    {
      "cell_type": "markdown",
      "metadata": {
        "id": "M4uAsM9OVxIs"
      },
      "source": [
        "Notice a few outliers so im gonna take care of those later"
      ]
    },
    {
      "cell_type": "markdown",
      "metadata": {
        "id": "99yhk8PFVxIs"
      },
      "source": [
        "# Starting EDA"
      ]
    },
    {
      "cell_type": "markdown",
      "metadata": {
        "id": "qdd-mPTCVxIs"
      },
      "source": [
        "Before anything im creating a copy of my dataframe since i dont wanna overwrite the original"
      ]
    },
    {
      "cell_type": "code",
      "execution_count": 151,
      "metadata": {
        "id": "WXoTDkzzVxIt"
      },
      "outputs": [],
      "source": [
        "df = ds.copy()"
      ]
    },
    {
      "cell_type": "markdown",
      "metadata": {
        "id": "oB2H8AUiVxIt"
      },
      "source": [
        "In the next few cells this copy doesnt come into action since im only looking at the dataframe. Later it will."
      ]
    },
    {
      "cell_type": "markdown",
      "metadata": {
        "id": "6yw2LGkclGzL"
      },
      "source": [
        "## Splitting the date column into month and year"
      ]
    },
    {
      "cell_type": "code",
      "execution_count": 152,
      "metadata": {
        "id": "bG2_pEX0lGZb"
      },
      "outputs": [],
      "source": [
        "df['date_posted'] = pd.to_datetime(df['date_posted'])\n",
        "df['year_posted'] = df['date_posted'].dt.year\n",
        "df['month_posted'] = df['date_posted'].dt.month\n"
      ]
    },
    {
      "cell_type": "markdown",
      "metadata": {},
      "source": [
        "## Removing outliers"
      ]
    },
    {
      "cell_type": "code",
      "execution_count": 153,
      "metadata": {},
      "outputs": [],
      "source": [
        "df = df[df['model_year'] > df['model_year'].quantile(0.025)]\n",
        "df = df[(df['price'] > 100) & (df['price'] < df['price'].quantile(0.975))]"
      ]
    },
    {
      "cell_type": "code",
      "execution_count": 154,
      "metadata": {},
      "outputs": [
        {
          "data": {
            "text/html": [
              "<div>\n",
              "<style scoped>\n",
              "    .dataframe tbody tr th:only-of-type {\n",
              "        vertical-align: middle;\n",
              "    }\n",
              "\n",
              "    .dataframe tbody tr th {\n",
              "        vertical-align: top;\n",
              "    }\n",
              "\n",
              "    .dataframe thead th {\n",
              "        text-align: right;\n",
              "    }\n",
              "</style>\n",
              "<table border=\"1\" class=\"dataframe\">\n",
              "  <thead>\n",
              "    <tr style=\"text-align: right;\">\n",
              "      <th></th>\n",
              "      <th>price</th>\n",
              "      <th>model_year</th>\n",
              "      <th>cylinders</th>\n",
              "      <th>odometer</th>\n",
              "      <th>is_4wd</th>\n",
              "      <th>date_posted</th>\n",
              "      <th>days_listed</th>\n",
              "      <th>year_posted</th>\n",
              "      <th>month_posted</th>\n",
              "    </tr>\n",
              "  </thead>\n",
              "  <tbody>\n",
              "    <tr>\n",
              "      <th>count</th>\n",
              "      <td>44736.000000</td>\n",
              "      <td>44736.000000</td>\n",
              "      <td>40165.000000</td>\n",
              "      <td>37861.000000</td>\n",
              "      <td>21614.0</td>\n",
              "      <td>44736</td>\n",
              "      <td>44736.000000</td>\n",
              "      <td>44736.000000</td>\n",
              "      <td>44736.000000</td>\n",
              "    </tr>\n",
              "    <tr>\n",
              "      <th>mean</th>\n",
              "      <td>11619.611700</td>\n",
              "      <td>2010.037241</td>\n",
              "      <td>6.040060</td>\n",
              "      <td>118082.624468</td>\n",
              "      <td>1.0</td>\n",
              "      <td>2018-10-25 04:32:01.673819904</td>\n",
              "      <td>39.573118</td>\n",
              "      <td>2018.307448</td>\n",
              "      <td>6.631594</td>\n",
              "    </tr>\n",
              "    <tr>\n",
              "      <th>min</th>\n",
              "      <td>105.000000</td>\n",
              "      <td>1997.000000</td>\n",
              "      <td>3.000000</td>\n",
              "      <td>0.000000</td>\n",
              "      <td>1.0</td>\n",
              "      <td>2018-05-01 00:00:00</td>\n",
              "      <td>0.000000</td>\n",
              "      <td>2018.000000</td>\n",
              "      <td>1.000000</td>\n",
              "    </tr>\n",
              "    <tr>\n",
              "      <th>25%</th>\n",
              "      <td>5400.000000</td>\n",
              "      <td>2006.000000</td>\n",
              "      <td>4.000000</td>\n",
              "      <td>74631.000000</td>\n",
              "      <td>1.0</td>\n",
              "      <td>2018-07-29 00:00:00</td>\n",
              "      <td>19.000000</td>\n",
              "      <td>2018.000000</td>\n",
              "      <td>3.000000</td>\n",
              "    </tr>\n",
              "    <tr>\n",
              "      <th>50%</th>\n",
              "      <td>9295.000000</td>\n",
              "      <td>2011.000000</td>\n",
              "      <td>6.000000</td>\n",
              "      <td>115800.000000</td>\n",
              "      <td>1.0</td>\n",
              "      <td>2018-10-25 00:00:00</td>\n",
              "      <td>33.000000</td>\n",
              "      <td>2018.000000</td>\n",
              "      <td>7.000000</td>\n",
              "    </tr>\n",
              "    <tr>\n",
              "      <th>75%</th>\n",
              "      <td>16000.000000</td>\n",
              "      <td>2014.000000</td>\n",
              "      <td>8.000000</td>\n",
              "      <td>156000.000000</td>\n",
              "      <td>1.0</td>\n",
              "      <td>2019-01-22 00:00:00</td>\n",
              "      <td>53.000000</td>\n",
              "      <td>2019.000000</td>\n",
              "      <td>10.000000</td>\n",
              "    </tr>\n",
              "    <tr>\n",
              "      <th>max</th>\n",
              "      <td>36262.000000</td>\n",
              "      <td>2019.000000</td>\n",
              "      <td>12.000000</td>\n",
              "      <td>990000.000000</td>\n",
              "      <td>1.0</td>\n",
              "      <td>2019-04-19 00:00:00</td>\n",
              "      <td>271.000000</td>\n",
              "      <td>2019.000000</td>\n",
              "      <td>12.000000</td>\n",
              "    </tr>\n",
              "    <tr>\n",
              "      <th>std</th>\n",
              "      <td>7987.519575</td>\n",
              "      <td>5.019853</td>\n",
              "      <td>1.633348</td>\n",
              "      <td>63292.820934</td>\n",
              "      <td>0.0</td>\n",
              "      <td>NaN</td>\n",
              "      <td>28.205583</td>\n",
              "      <td>0.461442</td>\n",
              "      <td>3.475104</td>\n",
              "    </tr>\n",
              "  </tbody>\n",
              "</table>\n",
              "</div>"
            ],
            "text/plain": [
              "              price    model_year     cylinders       odometer   is_4wd  \\\n",
              "count  44736.000000  44736.000000  40165.000000   37861.000000  21614.0   \n",
              "mean   11619.611700   2010.037241      6.040060  118082.624468      1.0   \n",
              "min      105.000000   1997.000000      3.000000       0.000000      1.0   \n",
              "25%     5400.000000   2006.000000      4.000000   74631.000000      1.0   \n",
              "50%     9295.000000   2011.000000      6.000000  115800.000000      1.0   \n",
              "75%    16000.000000   2014.000000      8.000000  156000.000000      1.0   \n",
              "max    36262.000000   2019.000000     12.000000  990000.000000      1.0   \n",
              "std     7987.519575      5.019853      1.633348   63292.820934      0.0   \n",
              "\n",
              "                         date_posted   days_listed   year_posted  month_posted  \n",
              "count                          44736  44736.000000  44736.000000  44736.000000  \n",
              "mean   2018-10-25 04:32:01.673819904     39.573118   2018.307448      6.631594  \n",
              "min              2018-05-01 00:00:00      0.000000   2018.000000      1.000000  \n",
              "25%              2018-07-29 00:00:00     19.000000   2018.000000      3.000000  \n",
              "50%              2018-10-25 00:00:00     33.000000   2018.000000      7.000000  \n",
              "75%              2019-01-22 00:00:00     53.000000   2019.000000     10.000000  \n",
              "max              2019-04-19 00:00:00    271.000000   2019.000000     12.000000  \n",
              "std                              NaN     28.205583      0.461442      3.475104  "
            ]
          },
          "execution_count": 154,
          "metadata": {},
          "output_type": "execute_result"
        }
      ],
      "source": [
        "df.describe()"
      ]
    },
    {
      "cell_type": "markdown",
      "metadata": {
        "id": "r2W-Imv-VxIt"
      },
      "source": [
        "## Checking for duplicates"
      ]
    },
    {
      "cell_type": "code",
      "execution_count": 155,
      "metadata": {
        "colab": {
          "base_uri": "https://localhost:8080/",
          "height": 73
        },
        "id": "YuAMotX9VxIt",
        "outputId": "fa7b2cb2-7786-4d00-8b77-3b119117dfb9"
      },
      "outputs": [
        {
          "data": {
            "text/html": [
              "<div>\n",
              "<style scoped>\n",
              "    .dataframe tbody tr th:only-of-type {\n",
              "        vertical-align: middle;\n",
              "    }\n",
              "\n",
              "    .dataframe tbody tr th {\n",
              "        vertical-align: top;\n",
              "    }\n",
              "\n",
              "    .dataframe thead th {\n",
              "        text-align: right;\n",
              "    }\n",
              "</style>\n",
              "<table border=\"1\" class=\"dataframe\">\n",
              "  <thead>\n",
              "    <tr style=\"text-align: right;\">\n",
              "      <th></th>\n",
              "      <th>price</th>\n",
              "      <th>model_year</th>\n",
              "      <th>model</th>\n",
              "      <th>condition</th>\n",
              "      <th>cylinders</th>\n",
              "      <th>fuel</th>\n",
              "      <th>odometer</th>\n",
              "      <th>transmission</th>\n",
              "      <th>type</th>\n",
              "      <th>paint_color</th>\n",
              "      <th>is_4wd</th>\n",
              "      <th>date_posted</th>\n",
              "      <th>days_listed</th>\n",
              "    </tr>\n",
              "  </thead>\n",
              "  <tbody>\n",
              "  </tbody>\n",
              "</table>\n",
              "</div>"
            ],
            "text/plain": [
              "Empty DataFrame\n",
              "Columns: [price, model_year, model, condition, cylinders, fuel, odometer, transmission, type, paint_color, is_4wd, date_posted, days_listed]\n",
              "Index: []"
            ]
          },
          "execution_count": 155,
          "metadata": {},
          "output_type": "execute_result"
        }
      ],
      "source": [
        "ds[ds.duplicated(keep='last')]"
      ]
    },
    {
      "cell_type": "markdown",
      "metadata": {},
      "source": [
        "No duplicates in the dataframe"
      ]
    },
    {
      "cell_type": "markdown",
      "metadata": {
        "id": "usHtcZXnVxIt"
      },
      "source": [
        "## Looking at the nan values"
      ]
    },
    {
      "cell_type": "code",
      "execution_count": 156,
      "metadata": {
        "colab": {
          "base_uri": "https://localhost:8080/",
          "height": 600
        },
        "id": "EaI9s9GRVxIt",
        "outputId": "d0d14cbd-6cc7-4375-f8b5-b59ea2917d1c"
      },
      "outputs": [
        {
          "data": {
            "text/html": [
              "<div>\n",
              "<style scoped>\n",
              "    .dataframe tbody tr th:only-of-type {\n",
              "        vertical-align: middle;\n",
              "    }\n",
              "\n",
              "    .dataframe tbody tr th {\n",
              "        vertical-align: top;\n",
              "    }\n",
              "\n",
              "    .dataframe thead th {\n",
              "        text-align: right;\n",
              "    }\n",
              "</style>\n",
              "<table border=\"1\" class=\"dataframe\">\n",
              "  <thead>\n",
              "    <tr style=\"text-align: right;\">\n",
              "      <th></th>\n",
              "      <th>price</th>\n",
              "      <th>model_year</th>\n",
              "      <th>model</th>\n",
              "      <th>condition</th>\n",
              "      <th>cylinders</th>\n",
              "      <th>fuel</th>\n",
              "      <th>odometer</th>\n",
              "      <th>transmission</th>\n",
              "      <th>type</th>\n",
              "      <th>paint_color</th>\n",
              "      <th>is_4wd</th>\n",
              "      <th>date_posted</th>\n",
              "      <th>days_listed</th>\n",
              "    </tr>\n",
              "  </thead>\n",
              "  <tbody>\n",
              "    <tr>\n",
              "      <th>0</th>\n",
              "      <td>9400</td>\n",
              "      <td>2011.0</td>\n",
              "      <td>bmw x5</td>\n",
              "      <td>good</td>\n",
              "      <td>6.0</td>\n",
              "      <td>gas</td>\n",
              "      <td>145000.0</td>\n",
              "      <td>automatic</td>\n",
              "      <td>SUV</td>\n",
              "      <td>NaN</td>\n",
              "      <td>1.0</td>\n",
              "      <td>2018-06-23</td>\n",
              "      <td>19</td>\n",
              "    </tr>\n",
              "    <tr>\n",
              "      <th>1</th>\n",
              "      <td>25500</td>\n",
              "      <td>NaN</td>\n",
              "      <td>ford f-150</td>\n",
              "      <td>good</td>\n",
              "      <td>6.0</td>\n",
              "      <td>gas</td>\n",
              "      <td>88705.0</td>\n",
              "      <td>automatic</td>\n",
              "      <td>pickup</td>\n",
              "      <td>white</td>\n",
              "      <td>1.0</td>\n",
              "      <td>2018-10-19</td>\n",
              "      <td>50</td>\n",
              "    </tr>\n",
              "    <tr>\n",
              "      <th>2</th>\n",
              "      <td>5500</td>\n",
              "      <td>2013.0</td>\n",
              "      <td>hyundai sonata</td>\n",
              "      <td>like new</td>\n",
              "      <td>4.0</td>\n",
              "      <td>gas</td>\n",
              "      <td>110000.0</td>\n",
              "      <td>automatic</td>\n",
              "      <td>sedan</td>\n",
              "      <td>red</td>\n",
              "      <td>NaN</td>\n",
              "      <td>2019-02-07</td>\n",
              "      <td>79</td>\n",
              "    </tr>\n",
              "    <tr>\n",
              "      <th>3</th>\n",
              "      <td>1500</td>\n",
              "      <td>2003.0</td>\n",
              "      <td>ford f-150</td>\n",
              "      <td>fair</td>\n",
              "      <td>8.0</td>\n",
              "      <td>gas</td>\n",
              "      <td>NaN</td>\n",
              "      <td>automatic</td>\n",
              "      <td>pickup</td>\n",
              "      <td>NaN</td>\n",
              "      <td>NaN</td>\n",
              "      <td>2019-03-22</td>\n",
              "      <td>9</td>\n",
              "    </tr>\n",
              "    <tr>\n",
              "      <th>4</th>\n",
              "      <td>14900</td>\n",
              "      <td>2017.0</td>\n",
              "      <td>chrysler 200</td>\n",
              "      <td>excellent</td>\n",
              "      <td>4.0</td>\n",
              "      <td>gas</td>\n",
              "      <td>80903.0</td>\n",
              "      <td>automatic</td>\n",
              "      <td>sedan</td>\n",
              "      <td>black</td>\n",
              "      <td>NaN</td>\n",
              "      <td>2019-04-02</td>\n",
              "      <td>28</td>\n",
              "    </tr>\n",
              "    <tr>\n",
              "      <th>...</th>\n",
              "      <td>...</td>\n",
              "      <td>...</td>\n",
              "      <td>...</td>\n",
              "      <td>...</td>\n",
              "      <td>...</td>\n",
              "      <td>...</td>\n",
              "      <td>...</td>\n",
              "      <td>...</td>\n",
              "      <td>...</td>\n",
              "      <td>...</td>\n",
              "      <td>...</td>\n",
              "      <td>...</td>\n",
              "      <td>...</td>\n",
              "    </tr>\n",
              "    <tr>\n",
              "      <th>51520</th>\n",
              "      <td>9249</td>\n",
              "      <td>2013.0</td>\n",
              "      <td>nissan maxima</td>\n",
              "      <td>like new</td>\n",
              "      <td>6.0</td>\n",
              "      <td>gas</td>\n",
              "      <td>88136.0</td>\n",
              "      <td>automatic</td>\n",
              "      <td>sedan</td>\n",
              "      <td>black</td>\n",
              "      <td>NaN</td>\n",
              "      <td>2018-10-03</td>\n",
              "      <td>37</td>\n",
              "    </tr>\n",
              "    <tr>\n",
              "      <th>51521</th>\n",
              "      <td>2700</td>\n",
              "      <td>2002.0</td>\n",
              "      <td>honda civic</td>\n",
              "      <td>salvage</td>\n",
              "      <td>4.0</td>\n",
              "      <td>gas</td>\n",
              "      <td>181500.0</td>\n",
              "      <td>automatic</td>\n",
              "      <td>sedan</td>\n",
              "      <td>white</td>\n",
              "      <td>NaN</td>\n",
              "      <td>2018-11-14</td>\n",
              "      <td>22</td>\n",
              "    </tr>\n",
              "    <tr>\n",
              "      <th>51522</th>\n",
              "      <td>3950</td>\n",
              "      <td>2009.0</td>\n",
              "      <td>hyundai sonata</td>\n",
              "      <td>excellent</td>\n",
              "      <td>4.0</td>\n",
              "      <td>gas</td>\n",
              "      <td>128000.0</td>\n",
              "      <td>automatic</td>\n",
              "      <td>sedan</td>\n",
              "      <td>blue</td>\n",
              "      <td>NaN</td>\n",
              "      <td>2018-11-15</td>\n",
              "      <td>32</td>\n",
              "    </tr>\n",
              "    <tr>\n",
              "      <th>51523</th>\n",
              "      <td>7455</td>\n",
              "      <td>2013.0</td>\n",
              "      <td>toyota corolla</td>\n",
              "      <td>good</td>\n",
              "      <td>4.0</td>\n",
              "      <td>gas</td>\n",
              "      <td>139573.0</td>\n",
              "      <td>automatic</td>\n",
              "      <td>sedan</td>\n",
              "      <td>black</td>\n",
              "      <td>NaN</td>\n",
              "      <td>2018-07-02</td>\n",
              "      <td>71</td>\n",
              "    </tr>\n",
              "    <tr>\n",
              "      <th>51524</th>\n",
              "      <td>6300</td>\n",
              "      <td>2014.0</td>\n",
              "      <td>nissan altima</td>\n",
              "      <td>good</td>\n",
              "      <td>4.0</td>\n",
              "      <td>gas</td>\n",
              "      <td>NaN</td>\n",
              "      <td>automatic</td>\n",
              "      <td>sedan</td>\n",
              "      <td>NaN</td>\n",
              "      <td>NaN</td>\n",
              "      <td>2018-06-05</td>\n",
              "      <td>10</td>\n",
              "    </tr>\n",
              "  </tbody>\n",
              "</table>\n",
              "<p>36673 rows × 13 columns</p>\n",
              "</div>"
            ],
            "text/plain": [
              "       price  model_year           model  condition  cylinders fuel  odometer  \\\n",
              "0       9400      2011.0          bmw x5       good        6.0  gas  145000.0   \n",
              "1      25500         NaN      ford f-150       good        6.0  gas   88705.0   \n",
              "2       5500      2013.0  hyundai sonata   like new        4.0  gas  110000.0   \n",
              "3       1500      2003.0      ford f-150       fair        8.0  gas       NaN   \n",
              "4      14900      2017.0    chrysler 200  excellent        4.0  gas   80903.0   \n",
              "...      ...         ...             ...        ...        ...  ...       ...   \n",
              "51520   9249      2013.0   nissan maxima   like new        6.0  gas   88136.0   \n",
              "51521   2700      2002.0     honda civic    salvage        4.0  gas  181500.0   \n",
              "51522   3950      2009.0  hyundai sonata  excellent        4.0  gas  128000.0   \n",
              "51523   7455      2013.0  toyota corolla       good        4.0  gas  139573.0   \n",
              "51524   6300      2014.0   nissan altima       good        4.0  gas       NaN   \n",
              "\n",
              "      transmission    type paint_color  is_4wd date_posted  days_listed  \n",
              "0        automatic     SUV         NaN     1.0  2018-06-23           19  \n",
              "1        automatic  pickup       white     1.0  2018-10-19           50  \n",
              "2        automatic   sedan         red     NaN  2019-02-07           79  \n",
              "3        automatic  pickup         NaN     NaN  2019-03-22            9  \n",
              "4        automatic   sedan       black     NaN  2019-04-02           28  \n",
              "...            ...     ...         ...     ...         ...          ...  \n",
              "51520    automatic   sedan       black     NaN  2018-10-03           37  \n",
              "51521    automatic   sedan       white     NaN  2018-11-14           22  \n",
              "51522    automatic   sedan        blue     NaN  2018-11-15           32  \n",
              "51523    automatic   sedan       black     NaN  2018-07-02           71  \n",
              "51524    automatic   sedan         NaN     NaN  2018-06-05           10  \n",
              "\n",
              "[36673 rows x 13 columns]"
            ]
          },
          "execution_count": 156,
          "metadata": {},
          "output_type": "execute_result"
        }
      ],
      "source": [
        "ds[ds.isna().any(axis=1)]"
      ]
    },
    {
      "cell_type": "code",
      "execution_count": 157,
      "metadata": {
        "colab": {
          "base_uri": "https://localhost:8080/"
        },
        "id": "l4aNhlkTVxIu",
        "outputId": "bb2d12d9-4494-463d-c50d-4ad26833aae6"
      },
      "outputs": [
        {
          "name": "stdout",
          "output_type": "stream",
          "text": [
            "price: 0\n",
            "model_year: 3619\n",
            "model: 0\n",
            "condition: 0\n",
            "cylinders: 5260\n",
            "fuel: 0\n",
            "odometer: 7892\n",
            "transmission: 0\n",
            "type: 0\n",
            "paint_color: 9267\n",
            "is_4wd: 25953\n",
            "date_posted: 0\n",
            "days_listed: 0\n",
            "\n",
            "\n",
            "\n",
            "\n"
          ]
        }
      ],
      "source": [
        "how_many_nan(ds)"
      ]
    },
    {
      "cell_type": "markdown",
      "metadata": {},
      "source": [
        "Noticing the columns where the NaN are. Gonna focus on each one of those particularly later."
      ]
    },
    {
      "cell_type": "code",
      "execution_count": 158,
      "metadata": {
        "colab": {
          "base_uri": "https://localhost:8080/",
          "height": 600
        },
        "id": "R5bi19i9VxIu",
        "outputId": "90e2cd8b-ff0a-436c-eb6e-ebb9683e6902"
      },
      "outputs": [
        {
          "data": {
            "text/html": [
              "<div>\n",
              "<style scoped>\n",
              "    .dataframe tbody tr th:only-of-type {\n",
              "        vertical-align: middle;\n",
              "    }\n",
              "\n",
              "    .dataframe tbody tr th {\n",
              "        vertical-align: top;\n",
              "    }\n",
              "\n",
              "    .dataframe thead th {\n",
              "        text-align: right;\n",
              "    }\n",
              "</style>\n",
              "<table border=\"1\" class=\"dataframe\">\n",
              "  <thead>\n",
              "    <tr style=\"text-align: right;\">\n",
              "      <th></th>\n",
              "      <th>price</th>\n",
              "      <th>model_year</th>\n",
              "      <th>model</th>\n",
              "      <th>condition</th>\n",
              "      <th>cylinders</th>\n",
              "      <th>fuel</th>\n",
              "      <th>odometer</th>\n",
              "      <th>transmission</th>\n",
              "      <th>type</th>\n",
              "      <th>paint_color</th>\n",
              "      <th>is_4wd</th>\n",
              "      <th>date_posted</th>\n",
              "      <th>days_listed</th>\n",
              "    </tr>\n",
              "  </thead>\n",
              "  <tbody>\n",
              "    <tr>\n",
              "      <th>0</th>\n",
              "      <td>9400</td>\n",
              "      <td>2011.0</td>\n",
              "      <td>bmw x5</td>\n",
              "      <td>good</td>\n",
              "      <td>6.0</td>\n",
              "      <td>gas</td>\n",
              "      <td>145000.0</td>\n",
              "      <td>automatic</td>\n",
              "      <td>SUV</td>\n",
              "      <td>NaN</td>\n",
              "      <td>1.0</td>\n",
              "      <td>2018-06-23</td>\n",
              "      <td>19</td>\n",
              "    </tr>\n",
              "    <tr>\n",
              "      <th>1</th>\n",
              "      <td>25500</td>\n",
              "      <td>NaN</td>\n",
              "      <td>ford f-150</td>\n",
              "      <td>good</td>\n",
              "      <td>6.0</td>\n",
              "      <td>gas</td>\n",
              "      <td>88705.0</td>\n",
              "      <td>automatic</td>\n",
              "      <td>pickup</td>\n",
              "      <td>white</td>\n",
              "      <td>1.0</td>\n",
              "      <td>2018-10-19</td>\n",
              "      <td>50</td>\n",
              "    </tr>\n",
              "    <tr>\n",
              "      <th>2</th>\n",
              "      <td>5500</td>\n",
              "      <td>2013.0</td>\n",
              "      <td>hyundai sonata</td>\n",
              "      <td>like new</td>\n",
              "      <td>4.0</td>\n",
              "      <td>gas</td>\n",
              "      <td>110000.0</td>\n",
              "      <td>automatic</td>\n",
              "      <td>sedan</td>\n",
              "      <td>red</td>\n",
              "      <td>NaN</td>\n",
              "      <td>2019-02-07</td>\n",
              "      <td>79</td>\n",
              "    </tr>\n",
              "    <tr>\n",
              "      <th>3</th>\n",
              "      <td>1500</td>\n",
              "      <td>2003.0</td>\n",
              "      <td>ford f-150</td>\n",
              "      <td>fair</td>\n",
              "      <td>8.0</td>\n",
              "      <td>gas</td>\n",
              "      <td>NaN</td>\n",
              "      <td>automatic</td>\n",
              "      <td>pickup</td>\n",
              "      <td>NaN</td>\n",
              "      <td>NaN</td>\n",
              "      <td>2019-03-22</td>\n",
              "      <td>9</td>\n",
              "    </tr>\n",
              "    <tr>\n",
              "      <th>4</th>\n",
              "      <td>14900</td>\n",
              "      <td>2017.0</td>\n",
              "      <td>chrysler 200</td>\n",
              "      <td>excellent</td>\n",
              "      <td>4.0</td>\n",
              "      <td>gas</td>\n",
              "      <td>80903.0</td>\n",
              "      <td>automatic</td>\n",
              "      <td>sedan</td>\n",
              "      <td>black</td>\n",
              "      <td>NaN</td>\n",
              "      <td>2019-04-02</td>\n",
              "      <td>28</td>\n",
              "    </tr>\n",
              "    <tr>\n",
              "      <th>...</th>\n",
              "      <td>...</td>\n",
              "      <td>...</td>\n",
              "      <td>...</td>\n",
              "      <td>...</td>\n",
              "      <td>...</td>\n",
              "      <td>...</td>\n",
              "      <td>...</td>\n",
              "      <td>...</td>\n",
              "      <td>...</td>\n",
              "      <td>...</td>\n",
              "      <td>...</td>\n",
              "      <td>...</td>\n",
              "      <td>...</td>\n",
              "    </tr>\n",
              "    <tr>\n",
              "      <th>51520</th>\n",
              "      <td>9249</td>\n",
              "      <td>2013.0</td>\n",
              "      <td>nissan maxima</td>\n",
              "      <td>like new</td>\n",
              "      <td>6.0</td>\n",
              "      <td>gas</td>\n",
              "      <td>88136.0</td>\n",
              "      <td>automatic</td>\n",
              "      <td>sedan</td>\n",
              "      <td>black</td>\n",
              "      <td>NaN</td>\n",
              "      <td>2018-10-03</td>\n",
              "      <td>37</td>\n",
              "    </tr>\n",
              "    <tr>\n",
              "      <th>51521</th>\n",
              "      <td>2700</td>\n",
              "      <td>2002.0</td>\n",
              "      <td>honda civic</td>\n",
              "      <td>salvage</td>\n",
              "      <td>4.0</td>\n",
              "      <td>gas</td>\n",
              "      <td>181500.0</td>\n",
              "      <td>automatic</td>\n",
              "      <td>sedan</td>\n",
              "      <td>white</td>\n",
              "      <td>NaN</td>\n",
              "      <td>2018-11-14</td>\n",
              "      <td>22</td>\n",
              "    </tr>\n",
              "    <tr>\n",
              "      <th>51522</th>\n",
              "      <td>3950</td>\n",
              "      <td>2009.0</td>\n",
              "      <td>hyundai sonata</td>\n",
              "      <td>excellent</td>\n",
              "      <td>4.0</td>\n",
              "      <td>gas</td>\n",
              "      <td>128000.0</td>\n",
              "      <td>automatic</td>\n",
              "      <td>sedan</td>\n",
              "      <td>blue</td>\n",
              "      <td>NaN</td>\n",
              "      <td>2018-11-15</td>\n",
              "      <td>32</td>\n",
              "    </tr>\n",
              "    <tr>\n",
              "      <th>51523</th>\n",
              "      <td>7455</td>\n",
              "      <td>2013.0</td>\n",
              "      <td>toyota corolla</td>\n",
              "      <td>good</td>\n",
              "      <td>4.0</td>\n",
              "      <td>gas</td>\n",
              "      <td>139573.0</td>\n",
              "      <td>automatic</td>\n",
              "      <td>sedan</td>\n",
              "      <td>black</td>\n",
              "      <td>NaN</td>\n",
              "      <td>2018-07-02</td>\n",
              "      <td>71</td>\n",
              "    </tr>\n",
              "    <tr>\n",
              "      <th>51524</th>\n",
              "      <td>6300</td>\n",
              "      <td>2014.0</td>\n",
              "      <td>nissan altima</td>\n",
              "      <td>good</td>\n",
              "      <td>4.0</td>\n",
              "      <td>gas</td>\n",
              "      <td>NaN</td>\n",
              "      <td>automatic</td>\n",
              "      <td>sedan</td>\n",
              "      <td>NaN</td>\n",
              "      <td>NaN</td>\n",
              "      <td>2018-06-05</td>\n",
              "      <td>10</td>\n",
              "    </tr>\n",
              "  </tbody>\n",
              "</table>\n",
              "<p>36673 rows × 13 columns</p>\n",
              "</div>"
            ],
            "text/plain": [
              "       price  model_year           model  condition  cylinders fuel  odometer  \\\n",
              "0       9400      2011.0          bmw x5       good        6.0  gas  145000.0   \n",
              "1      25500         NaN      ford f-150       good        6.0  gas   88705.0   \n",
              "2       5500      2013.0  hyundai sonata   like new        4.0  gas  110000.0   \n",
              "3       1500      2003.0      ford f-150       fair        8.0  gas       NaN   \n",
              "4      14900      2017.0    chrysler 200  excellent        4.0  gas   80903.0   \n",
              "...      ...         ...             ...        ...        ...  ...       ...   \n",
              "51520   9249      2013.0   nissan maxima   like new        6.0  gas   88136.0   \n",
              "51521   2700      2002.0     honda civic    salvage        4.0  gas  181500.0   \n",
              "51522   3950      2009.0  hyundai sonata  excellent        4.0  gas  128000.0   \n",
              "51523   7455      2013.0  toyota corolla       good        4.0  gas  139573.0   \n",
              "51524   6300      2014.0   nissan altima       good        4.0  gas       NaN   \n",
              "\n",
              "      transmission    type paint_color  is_4wd date_posted  days_listed  \n",
              "0        automatic     SUV         NaN     1.0  2018-06-23           19  \n",
              "1        automatic  pickup       white     1.0  2018-10-19           50  \n",
              "2        automatic   sedan         red     NaN  2019-02-07           79  \n",
              "3        automatic  pickup         NaN     NaN  2019-03-22            9  \n",
              "4        automatic   sedan       black     NaN  2019-04-02           28  \n",
              "...            ...     ...         ...     ...         ...          ...  \n",
              "51520    automatic   sedan       black     NaN  2018-10-03           37  \n",
              "51521    automatic   sedan       white     NaN  2018-11-14           22  \n",
              "51522    automatic   sedan        blue     NaN  2018-11-15           32  \n",
              "51523    automatic   sedan       black     NaN  2018-07-02           71  \n",
              "51524    automatic   sedan         NaN     NaN  2018-06-05           10  \n",
              "\n",
              "[36673 rows x 13 columns]"
            ]
          },
          "execution_count": 158,
          "metadata": {},
          "output_type": "execute_result"
        }
      ],
      "source": [
        "how_many_nan(ds, True)"
      ]
    },
    {
      "cell_type": "markdown",
      "metadata": {},
      "source": [
        "Checking if there seem to be that several of the rows holding NaN are all or almost all the values NaN but doesnt seems to be the case"
      ]
    },
    {
      "cell_type": "markdown",
      "metadata": {
        "id": "TWDGe4FiVxIu"
      },
      "source": [
        "### Starting to work with model_year column"
      ]
    },
    {
      "cell_type": "code",
      "execution_count": 159,
      "metadata": {
        "colab": {
          "base_uri": "https://localhost:8080/",
          "height": 669
        },
        "id": "Z9ASoRMfVxIu",
        "outputId": "a15ed868-c5e9-423d-9076-aff90f612322"
      },
      "outputs": [
        {
          "data": {
            "text/html": [
              "<div>\n",
              "<style scoped>\n",
              "    .dataframe tbody tr th:only-of-type {\n",
              "        vertical-align: middle;\n",
              "    }\n",
              "\n",
              "    .dataframe tbody tr th {\n",
              "        vertical-align: top;\n",
              "    }\n",
              "\n",
              "    .dataframe thead th {\n",
              "        text-align: right;\n",
              "    }\n",
              "</style>\n",
              "<table border=\"1\" class=\"dataframe\">\n",
              "  <thead>\n",
              "    <tr style=\"text-align: right;\">\n",
              "      <th></th>\n",
              "      <th>price</th>\n",
              "      <th>model_year</th>\n",
              "      <th>model</th>\n",
              "      <th>condition</th>\n",
              "      <th>cylinders</th>\n",
              "      <th>fuel</th>\n",
              "      <th>odometer</th>\n",
              "      <th>transmission</th>\n",
              "      <th>type</th>\n",
              "      <th>paint_color</th>\n",
              "      <th>is_4wd</th>\n",
              "      <th>date_posted</th>\n",
              "      <th>days_listed</th>\n",
              "    </tr>\n",
              "  </thead>\n",
              "  <tbody>\n",
              "    <tr>\n",
              "      <th>1</th>\n",
              "      <td>25500</td>\n",
              "      <td>NaN</td>\n",
              "      <td>ford f-150</td>\n",
              "      <td>good</td>\n",
              "      <td>6.0</td>\n",
              "      <td>gas</td>\n",
              "      <td>88705.0</td>\n",
              "      <td>automatic</td>\n",
              "      <td>pickup</td>\n",
              "      <td>white</td>\n",
              "      <td>1.0</td>\n",
              "      <td>2018-10-19</td>\n",
              "      <td>50</td>\n",
              "    </tr>\n",
              "    <tr>\n",
              "      <th>20</th>\n",
              "      <td>6990</td>\n",
              "      <td>NaN</td>\n",
              "      <td>chevrolet tahoe</td>\n",
              "      <td>excellent</td>\n",
              "      <td>8.0</td>\n",
              "      <td>gas</td>\n",
              "      <td>147485.0</td>\n",
              "      <td>automatic</td>\n",
              "      <td>SUV</td>\n",
              "      <td>silver</td>\n",
              "      <td>1.0</td>\n",
              "      <td>2018-08-05</td>\n",
              "      <td>28</td>\n",
              "    </tr>\n",
              "    <tr>\n",
              "      <th>65</th>\n",
              "      <td>12800</td>\n",
              "      <td>NaN</td>\n",
              "      <td>ford f-150</td>\n",
              "      <td>excellent</td>\n",
              "      <td>6.0</td>\n",
              "      <td>gas</td>\n",
              "      <td>108500.0</td>\n",
              "      <td>automatic</td>\n",
              "      <td>pickup</td>\n",
              "      <td>white</td>\n",
              "      <td>NaN</td>\n",
              "      <td>2018-09-23</td>\n",
              "      <td>15</td>\n",
              "    </tr>\n",
              "    <tr>\n",
              "      <th>69</th>\n",
              "      <td>7800</td>\n",
              "      <td>NaN</td>\n",
              "      <td>ford f-150</td>\n",
              "      <td>like new</td>\n",
              "      <td>8.0</td>\n",
              "      <td>gas</td>\n",
              "      <td>97510.0</td>\n",
              "      <td>automatic</td>\n",
              "      <td>truck</td>\n",
              "      <td>white</td>\n",
              "      <td>1.0</td>\n",
              "      <td>2019-02-20</td>\n",
              "      <td>39</td>\n",
              "    </tr>\n",
              "    <tr>\n",
              "      <th>72</th>\n",
              "      <td>3650</td>\n",
              "      <td>NaN</td>\n",
              "      <td>subaru impreza</td>\n",
              "      <td>excellent</td>\n",
              "      <td>NaN</td>\n",
              "      <td>gas</td>\n",
              "      <td>74000.0</td>\n",
              "      <td>automatic</td>\n",
              "      <td>sedan</td>\n",
              "      <td>blue</td>\n",
              "      <td>1.0</td>\n",
              "      <td>2018-08-07</td>\n",
              "      <td>60</td>\n",
              "    </tr>\n",
              "    <tr>\n",
              "      <th>...</th>\n",
              "      <td>...</td>\n",
              "      <td>...</td>\n",
              "      <td>...</td>\n",
              "      <td>...</td>\n",
              "      <td>...</td>\n",
              "      <td>...</td>\n",
              "      <td>...</td>\n",
              "      <td>...</td>\n",
              "      <td>...</td>\n",
              "      <td>...</td>\n",
              "      <td>...</td>\n",
              "      <td>...</td>\n",
              "      <td>...</td>\n",
              "    </tr>\n",
              "    <tr>\n",
              "      <th>51464</th>\n",
              "      <td>8890</td>\n",
              "      <td>NaN</td>\n",
              "      <td>ford f250 super duty</td>\n",
              "      <td>good</td>\n",
              "      <td>8.0</td>\n",
              "      <td>gas</td>\n",
              "      <td>135778.0</td>\n",
              "      <td>automatic</td>\n",
              "      <td>truck</td>\n",
              "      <td>red</td>\n",
              "      <td>1.0</td>\n",
              "      <td>2018-11-28</td>\n",
              "      <td>24</td>\n",
              "    </tr>\n",
              "    <tr>\n",
              "      <th>51465</th>\n",
              "      <td>34595</td>\n",
              "      <td>NaN</td>\n",
              "      <td>gmc yukon</td>\n",
              "      <td>excellent</td>\n",
              "      <td>8.0</td>\n",
              "      <td>gas</td>\n",
              "      <td>86456.0</td>\n",
              "      <td>automatic</td>\n",
              "      <td>SUV</td>\n",
              "      <td>silver</td>\n",
              "      <td>1.0</td>\n",
              "      <td>2019-04-18</td>\n",
              "      <td>13</td>\n",
              "    </tr>\n",
              "    <tr>\n",
              "      <th>51487</th>\n",
              "      <td>1495</td>\n",
              "      <td>NaN</td>\n",
              "      <td>ford f-150</td>\n",
              "      <td>fair</td>\n",
              "      <td>6.0</td>\n",
              "      <td>gas</td>\n",
              "      <td>15804.0</td>\n",
              "      <td>manual</td>\n",
              "      <td>truck</td>\n",
              "      <td>white</td>\n",
              "      <td>1.0</td>\n",
              "      <td>2018-09-18</td>\n",
              "      <td>56</td>\n",
              "    </tr>\n",
              "    <tr>\n",
              "      <th>51488</th>\n",
              "      <td>21900</td>\n",
              "      <td>NaN</td>\n",
              "      <td>chevrolet silverado 3500hd</td>\n",
              "      <td>excellent</td>\n",
              "      <td>8.0</td>\n",
              "      <td>diesel</td>\n",
              "      <td>203000.0</td>\n",
              "      <td>automatic</td>\n",
              "      <td>truck</td>\n",
              "      <td>white</td>\n",
              "      <td>1.0</td>\n",
              "      <td>2018-12-27</td>\n",
              "      <td>37</td>\n",
              "    </tr>\n",
              "    <tr>\n",
              "      <th>51508</th>\n",
              "      <td>4950</td>\n",
              "      <td>NaN</td>\n",
              "      <td>chrysler town &amp; country</td>\n",
              "      <td>excellent</td>\n",
              "      <td>6.0</td>\n",
              "      <td>gas</td>\n",
              "      <td>150000.0</td>\n",
              "      <td>automatic</td>\n",
              "      <td>mini-van</td>\n",
              "      <td>silver</td>\n",
              "      <td>NaN</td>\n",
              "      <td>2018-06-30</td>\n",
              "      <td>48</td>\n",
              "    </tr>\n",
              "  </tbody>\n",
              "</table>\n",
              "<p>3619 rows × 13 columns</p>\n",
              "</div>"
            ],
            "text/plain": [
              "       price  model_year                       model  condition  cylinders  \\\n",
              "1      25500         NaN                  ford f-150       good        6.0   \n",
              "20      6990         NaN             chevrolet tahoe  excellent        8.0   \n",
              "65     12800         NaN                  ford f-150  excellent        6.0   \n",
              "69      7800         NaN                  ford f-150   like new        8.0   \n",
              "72      3650         NaN              subaru impreza  excellent        NaN   \n",
              "...      ...         ...                         ...        ...        ...   \n",
              "51464   8890         NaN        ford f250 super duty       good        8.0   \n",
              "51465  34595         NaN                   gmc yukon  excellent        8.0   \n",
              "51487   1495         NaN                  ford f-150       fair        6.0   \n",
              "51488  21900         NaN  chevrolet silverado 3500hd  excellent        8.0   \n",
              "51508   4950         NaN     chrysler town & country  excellent        6.0   \n",
              "\n",
              "         fuel  odometer transmission      type paint_color  is_4wd  \\\n",
              "1         gas   88705.0    automatic    pickup       white     1.0   \n",
              "20        gas  147485.0    automatic       SUV      silver     1.0   \n",
              "65        gas  108500.0    automatic    pickup       white     NaN   \n",
              "69        gas   97510.0    automatic     truck       white     1.0   \n",
              "72        gas   74000.0    automatic     sedan        blue     1.0   \n",
              "...       ...       ...          ...       ...         ...     ...   \n",
              "51464     gas  135778.0    automatic     truck         red     1.0   \n",
              "51465     gas   86456.0    automatic       SUV      silver     1.0   \n",
              "51487     gas   15804.0       manual     truck       white     1.0   \n",
              "51488  diesel  203000.0    automatic     truck       white     1.0   \n",
              "51508     gas  150000.0    automatic  mini-van      silver     NaN   \n",
              "\n",
              "      date_posted  days_listed  \n",
              "1      2018-10-19           50  \n",
              "20     2018-08-05           28  \n",
              "65     2018-09-23           15  \n",
              "69     2019-02-20           39  \n",
              "72     2018-08-07           60  \n",
              "...           ...          ...  \n",
              "51464  2018-11-28           24  \n",
              "51465  2019-04-18           13  \n",
              "51487  2018-09-18           56  \n",
              "51488  2018-12-27           37  \n",
              "51508  2018-06-30           48  \n",
              "\n",
              "[3619 rows x 13 columns]"
            ]
          },
          "execution_count": 159,
          "metadata": {},
          "output_type": "execute_result"
        }
      ],
      "source": [
        "ds[ds['model_year'].isnull()]"
      ]
    },
    {
      "cell_type": "markdown",
      "metadata": {
        "id": "7pyyYytcVxIu"
      },
      "source": [
        "I see model_year accounts for 10% of all the NaN. Im gonna try to use the values of other columns to fill those NaN, since simply using mean or median seems incorrect"
      ]
    },
    {
      "cell_type": "code",
      "execution_count": 160,
      "metadata": {
        "colab": {
          "base_uri": "https://localhost:8080/"
        },
        "id": "q2j9l7zVVxIv",
        "outputId": "efd5f4d6-0120-46b8-e17c-24ad53541252"
      },
      "outputs": [],
      "source": [
        "# First starting to use the price column as an indicator to the year\n",
        "df['model_year'] = df.groupby('price')['model_year'].apply(lambda x: x.fillna(x.mean())).reset_index(drop=True)"
      ]
    },
    {
      "cell_type": "markdown",
      "metadata": {
        "id": "hv4tFTGcVxIv"
      },
      "source": [
        "Checking if still any nan"
      ]
    },
    {
      "cell_type": "code",
      "execution_count": 161,
      "metadata": {
        "colab": {
          "base_uri": "https://localhost:8080/"
        },
        "id": "mxFtavQTVxIv",
        "outputId": "9fb3c18a-5c39-4d0b-8550-4d318a5fd3c3"
      },
      "outputs": [
        {
          "data": {
            "text/plain": [
              "5977"
            ]
          },
          "execution_count": 161,
          "metadata": {},
          "output_type": "execute_result"
        }
      ],
      "source": [
        "df['model_year'].shape[0]-df['model_year'].count()"
      ]
    },
    {
      "cell_type": "markdown",
      "metadata": {
        "id": "5JjCBc5jVxIv"
      },
      "source": [
        "Only 109 left. Just gonna use the median on those since it seems more correct than the mean"
      ]
    },
    {
      "cell_type": "code",
      "execution_count": 162,
      "metadata": {
        "colab": {
          "base_uri": "https://localhost:8080/",
          "height": 300
        },
        "id": "SFw9SshXVxIv",
        "outputId": "af11b692-a916-4ba4-ad28-8fa8b2570178"
      },
      "outputs": [
        {
          "data": {
            "text/html": [
              "<div>\n",
              "<style scoped>\n",
              "    .dataframe tbody tr th:only-of-type {\n",
              "        vertical-align: middle;\n",
              "    }\n",
              "\n",
              "    .dataframe tbody tr th {\n",
              "        vertical-align: top;\n",
              "    }\n",
              "\n",
              "    .dataframe thead th {\n",
              "        text-align: right;\n",
              "    }\n",
              "</style>\n",
              "<table border=\"1\" class=\"dataframe\">\n",
              "  <thead>\n",
              "    <tr style=\"text-align: right;\">\n",
              "      <th></th>\n",
              "      <th>price</th>\n",
              "      <th>model_year</th>\n",
              "      <th>cylinders</th>\n",
              "      <th>odometer</th>\n",
              "      <th>is_4wd</th>\n",
              "      <th>date_posted</th>\n",
              "      <th>days_listed</th>\n",
              "      <th>year_posted</th>\n",
              "      <th>month_posted</th>\n",
              "    </tr>\n",
              "  </thead>\n",
              "  <tbody>\n",
              "    <tr>\n",
              "      <th>count</th>\n",
              "      <td>44736.000000</td>\n",
              "      <td>38759.000000</td>\n",
              "      <td>40165.000000</td>\n",
              "      <td>37861.000000</td>\n",
              "      <td>21614.0</td>\n",
              "      <td>44736</td>\n",
              "      <td>44736.000000</td>\n",
              "      <td>44736.000000</td>\n",
              "      <td>44736.000000</td>\n",
              "    </tr>\n",
              "    <tr>\n",
              "      <th>mean</th>\n",
              "      <td>11619.611700</td>\n",
              "      <td>2010.046209</td>\n",
              "      <td>6.040060</td>\n",
              "      <td>118082.624468</td>\n",
              "      <td>1.0</td>\n",
              "      <td>2018-10-25 04:32:01.673819904</td>\n",
              "      <td>39.573118</td>\n",
              "      <td>2018.307448</td>\n",
              "      <td>6.631594</td>\n",
              "    </tr>\n",
              "    <tr>\n",
              "      <th>min</th>\n",
              "      <td>105.000000</td>\n",
              "      <td>1997.000000</td>\n",
              "      <td>3.000000</td>\n",
              "      <td>0.000000</td>\n",
              "      <td>1.0</td>\n",
              "      <td>2018-05-01 00:00:00</td>\n",
              "      <td>0.000000</td>\n",
              "      <td>2018.000000</td>\n",
              "      <td>1.000000</td>\n",
              "    </tr>\n",
              "    <tr>\n",
              "      <th>25%</th>\n",
              "      <td>5400.000000</td>\n",
              "      <td>2006.000000</td>\n",
              "      <td>4.000000</td>\n",
              "      <td>74631.000000</td>\n",
              "      <td>1.0</td>\n",
              "      <td>2018-07-29 00:00:00</td>\n",
              "      <td>19.000000</td>\n",
              "      <td>2018.000000</td>\n",
              "      <td>3.000000</td>\n",
              "    </tr>\n",
              "    <tr>\n",
              "      <th>50%</th>\n",
              "      <td>9295.000000</td>\n",
              "      <td>2011.000000</td>\n",
              "      <td>6.000000</td>\n",
              "      <td>115800.000000</td>\n",
              "      <td>1.0</td>\n",
              "      <td>2018-10-25 00:00:00</td>\n",
              "      <td>33.000000</td>\n",
              "      <td>2018.000000</td>\n",
              "      <td>7.000000</td>\n",
              "    </tr>\n",
              "    <tr>\n",
              "      <th>75%</th>\n",
              "      <td>16000.000000</td>\n",
              "      <td>2014.000000</td>\n",
              "      <td>8.000000</td>\n",
              "      <td>156000.000000</td>\n",
              "      <td>1.0</td>\n",
              "      <td>2019-01-22 00:00:00</td>\n",
              "      <td>53.000000</td>\n",
              "      <td>2019.000000</td>\n",
              "      <td>10.000000</td>\n",
              "    </tr>\n",
              "    <tr>\n",
              "      <th>max</th>\n",
              "      <td>36262.000000</td>\n",
              "      <td>2019.000000</td>\n",
              "      <td>12.000000</td>\n",
              "      <td>990000.000000</td>\n",
              "      <td>1.0</td>\n",
              "      <td>2019-04-19 00:00:00</td>\n",
              "      <td>271.000000</td>\n",
              "      <td>2019.000000</td>\n",
              "      <td>12.000000</td>\n",
              "    </tr>\n",
              "    <tr>\n",
              "      <th>std</th>\n",
              "      <td>7987.519575</td>\n",
              "      <td>5.018512</td>\n",
              "      <td>1.633348</td>\n",
              "      <td>63292.820934</td>\n",
              "      <td>0.0</td>\n",
              "      <td>NaN</td>\n",
              "      <td>28.205583</td>\n",
              "      <td>0.461442</td>\n",
              "      <td>3.475104</td>\n",
              "    </tr>\n",
              "  </tbody>\n",
              "</table>\n",
              "</div>"
            ],
            "text/plain": [
              "              price    model_year     cylinders       odometer   is_4wd  \\\n",
              "count  44736.000000  38759.000000  40165.000000   37861.000000  21614.0   \n",
              "mean   11619.611700   2010.046209      6.040060  118082.624468      1.0   \n",
              "min      105.000000   1997.000000      3.000000       0.000000      1.0   \n",
              "25%     5400.000000   2006.000000      4.000000   74631.000000      1.0   \n",
              "50%     9295.000000   2011.000000      6.000000  115800.000000      1.0   \n",
              "75%    16000.000000   2014.000000      8.000000  156000.000000      1.0   \n",
              "max    36262.000000   2019.000000     12.000000  990000.000000      1.0   \n",
              "std     7987.519575      5.018512      1.633348   63292.820934      0.0   \n",
              "\n",
              "                         date_posted   days_listed   year_posted  month_posted  \n",
              "count                          44736  44736.000000  44736.000000  44736.000000  \n",
              "mean   2018-10-25 04:32:01.673819904     39.573118   2018.307448      6.631594  \n",
              "min              2018-05-01 00:00:00      0.000000   2018.000000      1.000000  \n",
              "25%              2018-07-29 00:00:00     19.000000   2018.000000      3.000000  \n",
              "50%              2018-10-25 00:00:00     33.000000   2018.000000      7.000000  \n",
              "75%              2019-01-22 00:00:00     53.000000   2019.000000     10.000000  \n",
              "max              2019-04-19 00:00:00    271.000000   2019.000000     12.000000  \n",
              "std                              NaN     28.205583      0.461442      3.475104  "
            ]
          },
          "execution_count": 162,
          "metadata": {},
          "output_type": "execute_result"
        }
      ],
      "source": [
        "df.describe()"
      ]
    },
    {
      "cell_type": "code",
      "execution_count": 163,
      "metadata": {
        "id": "UJaWywxRVxIv"
      },
      "outputs": [],
      "source": [
        "df['model_year'] = df['model_year'].fillna(df['model_year'].median())"
      ]
    },
    {
      "cell_type": "markdown",
      "metadata": {
        "id": "HMP_6QYPVxIv"
      },
      "source": [
        "Checking again for NaN"
      ]
    },
    {
      "cell_type": "code",
      "execution_count": 164,
      "metadata": {
        "colab": {
          "base_uri": "https://localhost:8080/"
        },
        "id": "lRrAfMSFVxIv",
        "outputId": "4563cb0b-29ff-47a4-adfc-192373fd1547"
      },
      "outputs": [
        {
          "data": {
            "text/plain": [
              "0"
            ]
          },
          "execution_count": 164,
          "metadata": {},
          "output_type": "execute_result"
        }
      ],
      "source": [
        "df['model_year'].shape[0]-df['model_year'].count()\n"
      ]
    },
    {
      "cell_type": "markdown",
      "metadata": {},
      "source": [
        "All NaN values where removed from this column"
      ]
    },
    {
      "cell_type": "markdown",
      "metadata": {
        "id": "ChQirITeVxIw"
      },
      "source": [
        "### Moving on to the cylinders column"
      ]
    },
    {
      "cell_type": "markdown",
      "metadata": {
        "id": "L4QthliDVxIw"
      },
      "source": [
        "Gonna use the the model column to fill the cylinders and the mode since this is more a categorical than a numerical column"
      ]
    },
    {
      "cell_type": "code",
      "execution_count": 165,
      "metadata": {
        "colab": {
          "base_uri": "https://localhost:8080/"
        },
        "id": "SrO45GYRVxIw",
        "outputId": "3d0bb0bf-cadd-42de-8862-277993c60893"
      },
      "outputs": [],
      "source": [
        "df['cylinders'] = df.groupby('model')['cylinders'].apply(lambda x: x.fillna(mode(x)[0])).reset_index(drop=True)\n"
      ]
    },
    {
      "cell_type": "code",
      "execution_count": 166,
      "metadata": {
        "colab": {
          "base_uri": "https://localhost:8080/"
        },
        "id": "W39wZXXaVxIw",
        "outputId": "33d4940e-8a20-44f1-bacd-6d06b6f88d76"
      },
      "outputs": [
        {
          "data": {
            "text/plain": [
              "5977"
            ]
          },
          "execution_count": 166,
          "metadata": {},
          "output_type": "execute_result"
        }
      ],
      "source": [
        "df['cylinders'].shape[0]-df['cylinders'].count()"
      ]
    },
    {
      "cell_type": "code",
      "execution_count": 167,
      "metadata": {},
      "outputs": [],
      "source": [
        "df['cylinders'] = df['cylinders'].fillna(df['cylinders'].median())"
      ]
    },
    {
      "cell_type": "code",
      "execution_count": 168,
      "metadata": {},
      "outputs": [
        {
          "name": "stdout",
          "output_type": "stream",
          "text": [
            "price: 0\n",
            "model_year: 0\n",
            "model: 0\n",
            "condition: 0\n",
            "cylinders: 0\n",
            "fuel: 0\n",
            "odometer: 6875\n",
            "transmission: 0\n",
            "type: 0\n",
            "paint_color: 8038\n",
            "is_4wd: 23122\n",
            "date_posted: 0\n",
            "days_listed: 0\n",
            "year_posted: 0\n",
            "month_posted: 0\n",
            "\n",
            "\n",
            "\n",
            "\n"
          ]
        }
      ],
      "source": [
        "how_many_nan(df)"
      ]
    },
    {
      "cell_type": "markdown",
      "metadata": {},
      "source": [
        "All NaN values where removed from this column"
      ]
    },
    {
      "cell_type": "markdown",
      "metadata": {
        "id": "Uy4hKpB0XZyi"
      },
      "source": [
        "### Moving into the odometer column"
      ]
    },
    {
      "cell_type": "code",
      "execution_count": 169,
      "metadata": {
        "colab": {
          "base_uri": "https://localhost:8080/",
          "height": 0
        },
        "id": "So4f_kfdXcDe",
        "outputId": "2fb51ec8-5369-4990-addf-01bcad6d9ce3"
      },
      "outputs": [
        {
          "data": {
            "text/html": [
              "<div>\n",
              "<style scoped>\n",
              "    .dataframe tbody tr th:only-of-type {\n",
              "        vertical-align: middle;\n",
              "    }\n",
              "\n",
              "    .dataframe tbody tr th {\n",
              "        vertical-align: top;\n",
              "    }\n",
              "\n",
              "    .dataframe thead th {\n",
              "        text-align: right;\n",
              "    }\n",
              "</style>\n",
              "<table border=\"1\" class=\"dataframe\">\n",
              "  <thead>\n",
              "    <tr style=\"text-align: right;\">\n",
              "      <th></th>\n",
              "      <th>price</th>\n",
              "      <th>model_year</th>\n",
              "      <th>cylinders</th>\n",
              "      <th>odometer</th>\n",
              "      <th>is_4wd</th>\n",
              "      <th>date_posted</th>\n",
              "      <th>days_listed</th>\n",
              "      <th>year_posted</th>\n",
              "      <th>month_posted</th>\n",
              "    </tr>\n",
              "  </thead>\n",
              "  <tbody>\n",
              "    <tr>\n",
              "      <th>count</th>\n",
              "      <td>44736.000000</td>\n",
              "      <td>44736.000000</td>\n",
              "      <td>44736.000000</td>\n",
              "      <td>37861.000000</td>\n",
              "      <td>21614.0</td>\n",
              "      <td>44736</td>\n",
              "      <td>44736.000000</td>\n",
              "      <td>44736.000000</td>\n",
              "      <td>44736.000000</td>\n",
              "    </tr>\n",
              "    <tr>\n",
              "      <th>mean</th>\n",
              "      <td>11619.611700</td>\n",
              "      <td>2010.173641</td>\n",
              "      <td>6.031630</td>\n",
              "      <td>118082.624468</td>\n",
              "      <td>1.0</td>\n",
              "      <td>2018-10-25 04:32:01.673819904</td>\n",
              "      <td>39.573118</td>\n",
              "      <td>2018.307448</td>\n",
              "      <td>6.631594</td>\n",
              "    </tr>\n",
              "    <tr>\n",
              "      <th>min</th>\n",
              "      <td>105.000000</td>\n",
              "      <td>1997.000000</td>\n",
              "      <td>3.000000</td>\n",
              "      <td>0.000000</td>\n",
              "      <td>1.0</td>\n",
              "      <td>2018-05-01 00:00:00</td>\n",
              "      <td>0.000000</td>\n",
              "      <td>2018.000000</td>\n",
              "      <td>1.000000</td>\n",
              "    </tr>\n",
              "    <tr>\n",
              "      <th>25%</th>\n",
              "      <td>5400.000000</td>\n",
              "      <td>2007.000000</td>\n",
              "      <td>4.000000</td>\n",
              "      <td>74631.000000</td>\n",
              "      <td>1.0</td>\n",
              "      <td>2018-07-29 00:00:00</td>\n",
              "      <td>19.000000</td>\n",
              "      <td>2018.000000</td>\n",
              "      <td>3.000000</td>\n",
              "    </tr>\n",
              "    <tr>\n",
              "      <th>50%</th>\n",
              "      <td>9295.000000</td>\n",
              "      <td>2011.000000</td>\n",
              "      <td>6.000000</td>\n",
              "      <td>115800.000000</td>\n",
              "      <td>1.0</td>\n",
              "      <td>2018-10-25 00:00:00</td>\n",
              "      <td>33.000000</td>\n",
              "      <td>2018.000000</td>\n",
              "      <td>7.000000</td>\n",
              "    </tr>\n",
              "    <tr>\n",
              "      <th>75%</th>\n",
              "      <td>16000.000000</td>\n",
              "      <td>2014.000000</td>\n",
              "      <td>8.000000</td>\n",
              "      <td>156000.000000</td>\n",
              "      <td>1.0</td>\n",
              "      <td>2019-01-22 00:00:00</td>\n",
              "      <td>53.000000</td>\n",
              "      <td>2019.000000</td>\n",
              "      <td>10.000000</td>\n",
              "    </tr>\n",
              "    <tr>\n",
              "      <th>max</th>\n",
              "      <td>36262.000000</td>\n",
              "      <td>2019.000000</td>\n",
              "      <td>12.000000</td>\n",
              "      <td>990000.000000</td>\n",
              "      <td>1.0</td>\n",
              "      <td>2019-04-19 00:00:00</td>\n",
              "      <td>271.000000</td>\n",
              "      <td>2019.000000</td>\n",
              "      <td>12.000000</td>\n",
              "    </tr>\n",
              "    <tr>\n",
              "      <th>std</th>\n",
              "      <td>7987.519575</td>\n",
              "      <td>4.682496</td>\n",
              "      <td>1.519312</td>\n",
              "      <td>63292.820934</td>\n",
              "      <td>0.0</td>\n",
              "      <td>NaN</td>\n",
              "      <td>28.205583</td>\n",
              "      <td>0.461442</td>\n",
              "      <td>3.475104</td>\n",
              "    </tr>\n",
              "  </tbody>\n",
              "</table>\n",
              "</div>"
            ],
            "text/plain": [
              "              price    model_year     cylinders       odometer   is_4wd  \\\n",
              "count  44736.000000  44736.000000  44736.000000   37861.000000  21614.0   \n",
              "mean   11619.611700   2010.173641      6.031630  118082.624468      1.0   \n",
              "min      105.000000   1997.000000      3.000000       0.000000      1.0   \n",
              "25%     5400.000000   2007.000000      4.000000   74631.000000      1.0   \n",
              "50%     9295.000000   2011.000000      6.000000  115800.000000      1.0   \n",
              "75%    16000.000000   2014.000000      8.000000  156000.000000      1.0   \n",
              "max    36262.000000   2019.000000     12.000000  990000.000000      1.0   \n",
              "std     7987.519575      4.682496      1.519312   63292.820934      0.0   \n",
              "\n",
              "                         date_posted   days_listed   year_posted  month_posted  \n",
              "count                          44736  44736.000000  44736.000000  44736.000000  \n",
              "mean   2018-10-25 04:32:01.673819904     39.573118   2018.307448      6.631594  \n",
              "min              2018-05-01 00:00:00      0.000000   2018.000000      1.000000  \n",
              "25%              2018-07-29 00:00:00     19.000000   2018.000000      3.000000  \n",
              "50%              2018-10-25 00:00:00     33.000000   2018.000000      7.000000  \n",
              "75%              2019-01-22 00:00:00     53.000000   2019.000000     10.000000  \n",
              "max              2019-04-19 00:00:00    271.000000   2019.000000     12.000000  \n",
              "std                              NaN     28.205583      0.461442      3.475104  "
            ]
          },
          "execution_count": 169,
          "metadata": {},
          "output_type": "execute_result"
        }
      ],
      "source": [
        "df.describe()"
      ]
    },
    {
      "cell_type": "markdown",
      "metadata": {
        "id": "VvoVSq7-Xuz1"
      },
      "source": [
        "For the odometer im gonna use the price column"
      ]
    },
    {
      "cell_type": "code",
      "execution_count": 170,
      "metadata": {
        "colab": {
          "base_uri": "https://localhost:8080/"
        },
        "id": "2dnzEtCRX0Hk",
        "outputId": "ea639b2d-f1f4-46ef-e28f-6d61b37b3256"
      },
      "outputs": [],
      "source": [
        "df['odometer'] = df.groupby('model_year')['odometer'].apply(lambda x: x.fillna(x.mean())).reset_index(drop=True)\n"
      ]
    },
    {
      "cell_type": "code",
      "execution_count": 171,
      "metadata": {
        "colab": {
          "base_uri": "https://localhost:8080/"
        },
        "id": "woLLfBchYFYe",
        "outputId": "5e4ec8e2-32ca-43d6-b525-a708ed962815"
      },
      "outputs": [
        {
          "data": {
            "text/plain": [
              "5977"
            ]
          },
          "execution_count": 171,
          "metadata": {},
          "output_type": "execute_result"
        }
      ],
      "source": [
        "df['odometer'].shape[0]-df['odometer'].count()"
      ]
    },
    {
      "cell_type": "code",
      "execution_count": 172,
      "metadata": {
        "id": "QwWCVpgWYkh2"
      },
      "outputs": [],
      "source": [
        "df['odometer'] = df['odometer'].fillna(df['odometer'].mean())"
      ]
    },
    {
      "cell_type": "code",
      "execution_count": 173,
      "metadata": {
        "colab": {
          "base_uri": "https://localhost:8080/"
        },
        "id": "4ifkLQv3Yqol",
        "outputId": "349abe8c-8240-4d3c-b572-fb9c55fab400"
      },
      "outputs": [
        {
          "data": {
            "text/plain": [
              "0"
            ]
          },
          "execution_count": 173,
          "metadata": {},
          "output_type": "execute_result"
        }
      ],
      "source": [
        "df['odometer'].shape[0]-df['odometer'].count()\n"
      ]
    },
    {
      "cell_type": "markdown",
      "metadata": {},
      "source": [
        "All NaN values where removed from this column"
      ]
    },
    {
      "cell_type": "markdown",
      "metadata": {
        "id": "btmnE6ETYt5B"
      },
      "source": [
        "### Moving into the paint_color"
      ]
    },
    {
      "cell_type": "markdown",
      "metadata": {
        "id": "48fMkwREZuj3"
      },
      "source": [
        "Since i cant see a clear way to fill here im just gonna use the mode"
      ]
    },
    {
      "cell_type": "code",
      "execution_count": 174,
      "metadata": {
        "colab": {
          "base_uri": "https://localhost:8080/"
        },
        "id": "VjSIZuDWbYFT",
        "outputId": "e1377bfb-5744-4ed2-e267-b2e7c546766d"
      },
      "outputs": [
        {
          "data": {
            "text/plain": [
              "array([nan, 'red', 'black', 'white', 'blue', 'grey', 'silver', 'custom',\n",
              "       'orange', 'yellow', 'brown', 'green', 'purple'], dtype=object)"
            ]
          },
          "execution_count": 174,
          "metadata": {},
          "output_type": "execute_result"
        }
      ],
      "source": [
        "df['paint_color'].unique()"
      ]
    },
    {
      "cell_type": "code",
      "execution_count": 175,
      "metadata": {
        "colab": {
          "base_uri": "https://localhost:8080/",
          "height": 0
        },
        "id": "AStY9Qa9cf3h",
        "outputId": "b40d9cfa-7a91-4d94-d0ae-4cc52228971a"
      },
      "outputs": [
        {
          "name": "stderr",
          "output_type": "stream",
          "text": [
            "C:\\Users\\Tirso\\AppData\\Local\\Temp\\ipykernel_8512\\1396538553.py:1: FutureWarning: Series.__getitem__ treating keys as positions is deprecated. In a future version, integer keys will always be treated as labels (consistent with DataFrame behavior). To access a value by position, use `ser.iloc[pos]`\n",
            "  df['paint_color'].value_counts().reset_index().iloc[0][0]\n"
          ]
        },
        {
          "data": {
            "text/plain": [
              "'white'"
            ]
          },
          "execution_count": 175,
          "metadata": {},
          "output_type": "execute_result"
        }
      ],
      "source": [
        "df['paint_color'].value_counts().reset_index().iloc[0][0]"
      ]
    },
    {
      "cell_type": "code",
      "execution_count": 176,
      "metadata": {
        "id": "FibzrBCaZtuD"
      },
      "outputs": [
        {
          "name": "stderr",
          "output_type": "stream",
          "text": [
            "C:\\Users\\Tirso\\AppData\\Local\\Temp\\ipykernel_8512\\1684390015.py:1: FutureWarning: Series.__getitem__ treating keys as positions is deprecated. In a future version, integer keys will always be treated as labels (consistent with DataFrame behavior). To access a value by position, use `ser.iloc[pos]`\n",
            "  df['paint_color'] = df['paint_color'].fillna(df['paint_color'].value_counts().reset_index().iloc[0][0])\n"
          ]
        }
      ],
      "source": [
        "df['paint_color'] = df['paint_color'].fillna(df['paint_color'].value_counts().reset_index().iloc[0][0])"
      ]
    },
    {
      "cell_type": "code",
      "execution_count": 177,
      "metadata": {
        "colab": {
          "base_uri": "https://localhost:8080/"
        },
        "id": "KTN6eshiZ-Kw",
        "outputId": "5a42624e-39bf-4afc-ee0a-aeb3a8598f9d"
      },
      "outputs": [
        {
          "name": "stdout",
          "output_type": "stream",
          "text": [
            "price: 0\n",
            "model_year: 0\n",
            "model: 0\n",
            "condition: 0\n",
            "cylinders: 0\n",
            "fuel: 0\n",
            "odometer: 0\n",
            "transmission: 0\n",
            "type: 0\n",
            "paint_color: 0\n",
            "is_4wd: 23122\n",
            "date_posted: 0\n",
            "days_listed: 0\n",
            "year_posted: 0\n",
            "month_posted: 0\n",
            "\n",
            "\n",
            "\n",
            "\n"
          ]
        }
      ],
      "source": [
        "how_many_nan(df)"
      ]
    },
    {
      "cell_type": "markdown",
      "metadata": {},
      "source": [
        "All NaN values where removed from this column"
      ]
    },
    {
      "cell_type": "markdown",
      "metadata": {
        "id": "U30wtoWcdHHc"
      },
      "source": [
        "### Going into is_4wd"
      ]
    },
    {
      "cell_type": "markdown",
      "metadata": {
        "id": "jZCU1JsqdQRY"
      },
      "source": [
        "Seeing the high amount of null values here im just gonna drop it entirely since any analysis would be highly especulative"
      ]
    },
    {
      "cell_type": "code",
      "execution_count": 178,
      "metadata": {
        "id": "YZoL3Qk1eOAW"
      },
      "outputs": [],
      "source": [
        "df.drop('is_4wd', axis=1, inplace=True)"
      ]
    },
    {
      "cell_type": "markdown",
      "metadata": {},
      "source": [
        "All the NaN values where fixed in the dataframe. Now moving into plotting the figures."
      ]
    },
    {
      "cell_type": "markdown",
      "metadata": {
        "id": "iuJ6Z6VIfBAy"
      },
      "source": [
        "## Plotting figures"
      ]
    },
    {
      "cell_type": "markdown",
      "metadata": {
        "id": "2KXWj-2Ai5sT"
      },
      "source": [
        "Taking out the price, cylinders and month posting of the, histogram to plot later to have better view"
      ]
    },
    {
      "cell_type": "code",
      "execution_count": 179,
      "metadata": {
        "colab": {
          "base_uri": "https://localhost:8080/",
          "height": 1000
        },
        "id": "UlD33mvrfX1-",
        "outputId": "33662ab0-27e0-4ea4-c694-b0c59a2a13b6"
      },
      "outputs": [
        {
          "data": {
            "image/png": "[encoded data removed]",
            "text/plain": [
              "<Figure size 1500x1000 with 4 Axes>"
            ]
          },
          "metadata": {},
          "output_type": "display_data"
        }
      ],
      "source": [
        "plot_numeric_histograms(df.drop(['price', 'cylinders', 'month_posted'], axis=1))"
      ]
    },
    {
      "cell_type": "markdown",
      "metadata": {},
      "source": [
        "Noticing how the inmense majority of the vehicles are from 2011."
      ]
    },
    {
      "cell_type": "markdown",
      "metadata": {},
      "source": [
        "Also the vast majority of the sample cars have around 10000 miles.\n"
      ]
    },
    {
      "cell_type": "markdown",
      "metadata": {},
      "source": [
        "Most vehciles are listed for less than 2 months.\n"
      ]
    },
    {
      "cell_type": "markdown",
      "metadata": {},
      "source": [
        "All listings are from 2018 and 2019."
      ]
    },
    {
      "cell_type": "code",
      "execution_count": 180,
      "metadata": {
        "colab": {
          "base_uri": "https://localhost:8080/",
          "height": 480
        },
        "id": "V_pNE1N-jVER",
        "outputId": "06897bd8-7df5-48e4-dd47-c74223c3f358"
      },
      "outputs": [
        {
          "data": {
            "image/png": "[encoded data removed]",
            "text/plain": [
              "<Figure size 640x480 with 1 Axes>"
            ]
          },
          "metadata": {},
          "output_type": "display_data"
        }
      ],
      "source": [
        "sns.histplot(x='cylinders', data=df, bins=5)\n",
        "plt.xlabel('Value')\n",
        "plt.ylabel('Frequency')\n",
        "plt.title(f'Histogram of Cylinders')\n",
        "plt.show()"
      ]
    },
    {
      "cell_type": "markdown",
      "metadata": {},
      "source": [
        "Most vehicles have 6 cylinders."
      ]
    },
    {
      "cell_type": "code",
      "execution_count": 181,
      "metadata": {
        "colab": {
          "base_uri": "https://localhost:8080/",
          "height": 472
        },
        "id": "xNdQOxsenoVG",
        "outputId": "91ee28a9-1802-47ae-c352-0e360bba8460"
      },
      "outputs": [
        {
          "data": {
            "image/png": "[encoded data removed]",
            "text/plain": [
              "<Figure size 640x480 with 1 Axes>"
            ]
          },
          "metadata": {},
          "output_type": "display_data"
        }
      ],
      "source": [
        "sns.histplot(x='month_posted', data=df, bins=12)\n",
        "x_label=['Jan', 'Feb', 'Mar', 'Apr', 'May', 'Jun', 'Jul', 'Aug', 'Sep', 'Oct', 'Nov', 'Dec']\n",
        "plt.xticks(ticks=range(1,13), labels=x_label)\n",
        "plt.xlabel('Month')\n",
        "plt.ylabel('Frequency')\n",
        "plt.title(f'Histogram of Month Posted')\n",
        "plt.show()"
      ]
    },
    {
      "cell_type": "markdown",
      "metadata": {},
      "source": [
        "Postings from vehicles are usually the same all through the year, at the exception of April having the least listings."
      ]
    },
    {
      "cell_type": "code",
      "execution_count": 182,
      "metadata": {
        "colab": {
          "base_uri": "https://localhost:8080/",
          "height": 472
        },
        "id": "PpJLiK5Lnwk2",
        "outputId": "372907e9-260b-45dd-e6cd-1fd637bcf845"
      },
      "outputs": [
        {
          "data": {
            "image/png": "[encoded data removed]",
            "text/plain": [
              "<Figure size 640x480 with 1 Axes>"
            ]
          },
          "metadata": {},
          "output_type": "display_data"
        }
      ],
      "source": [
        "sns.histplot(x='price', data=df)\n",
        "plt.xlabel('Value')\n",
        "plt.ylabel('Frequency')\n",
        "plt.title(f'Histogram of Price')\n",
        "plt.show()"
      ]
    },
    {
      "cell_type": "markdown",
      "metadata": {},
      "source": [
        "The price listing is slightly right-skewed showing a relativily low amount of value mostly going from 5000 to 10000"
      ]
    },
    {
      "cell_type": "code",
      "execution_count": 183,
      "metadata": {
        "colab": {
          "base_uri": "https://localhost:8080/",
          "height": 313
        },
        "id": "vvZqHKxei84X",
        "outputId": "da28f467-e235-43fa-e17b-926e0256d338"
      },
      "outputs": [
        {
          "data": {
            "image/png": "[encoded data removed]",
            "text/plain": [
              "<Figure size 1500x500 with 3 Axes>"
            ]
          },
          "metadata": {},
          "output_type": "display_data"
        }
      ],
      "source": [
        "plot_categorical_bars(df.drop(['model', 'type', 'paint_color'], axis=1))"
      ]
    },
    {
      "cell_type": "markdown",
      "metadata": {},
      "source": [
        "Vast majority of vehicles are in good or excellent condition, running on gas and an automatic transmision."
      ]
    },
    {
      "cell_type": "code",
      "execution_count": 184,
      "metadata": {
        "colab": {
          "base_uri": "https://localhost:8080/",
          "height": 645
        },
        "id": "c1wsdzWRo2ov",
        "outputId": "22a6916e-3654-4cfb-ee91-3b24d263afbe"
      },
      "outputs": [
        {
          "data": {
            "image/png": "[encoded data removed]",
            "text/plain": [
              "<Figure size 640x480 with 1 Axes>"
            ]
          },
          "metadata": {},
          "output_type": "display_data"
        }
      ],
      "source": [
        "top_models = df['model'].value_counts().head(20).index\n",
        "df_filtered = df[df['model'].isin(top_models)]\n",
        "sns.countplot(x='model', data=df_filtered)\n",
        "plt.xlabel('Car Model')\n",
        "plt.ylabel('Count')\n",
        "plt.xticks(rotation=75)  # Rotate x-axis labels by 45 degrees for better readability\n",
        "plt.title(f'Top {20} Car Models')\n",
        "plt.show()"
      ]
    },
    {
      "cell_type": "markdown",
      "metadata": {},
      "source": [
        "Looking at the 20 most common models, we can see that the ford f-150 is the most common with the chevrolet silverado 1500 following behind."
      ]
    },
    {
      "cell_type": "code",
      "execution_count": 185,
      "metadata": {
        "colab": {
          "base_uri": "https://localhost:8080/",
          "height": 1000
        },
        "id": "Oeljs04IkXg-",
        "outputId": "92533283-b123-4b94-94dd-edcf2f135154"
      },
      "outputs": [
        {
          "data": {
            "image/png": "[encoded data removed]",
            "text/plain": [
              "<Figure size 640x480 with 1 Axes>"
            ]
          },
          "metadata": {},
          "output_type": "display_data"
        },
        {
          "data": {
            "image/png": "[encoded data removed]",
            "text/plain": [
              "<Figure size 640x480 with 1 Axes>"
            ]
          },
          "metadata": {},
          "output_type": "display_data"
        }
      ],
      "source": [
        "for column in ['type', 'paint_color']:\n",
        "    sns.countplot(x=column, data=df)\n",
        "    plt.xlabel('Category')\n",
        "    plt.ylabel('Count')\n",
        "    plt.xticks(rotation=45)  # Rotate x-axis labels by 45 degrees\n",
        "    plt.title(f'Bar Plot of {column}')\n",
        "    plt.show()"
      ]
    },
    {
      "cell_type": "markdown",
      "metadata": {},
      "source": [
        "The top 3 most common car types are sedans, SUV and trucks. And pickups following behind them."
      ]
    },
    {
      "cell_type": "markdown",
      "metadata": {},
      "source": [
        "And the absolute majority of cars are white, accounting for almost the other 3 more common paintings put together."
      ]
    },
    {
      "cell_type": "markdown",
      "metadata": {},
      "source": [
        "# Conclusions"
      ]
    },
    {
      "cell_type": "markdown",
      "metadata": {},
      "source": [
        "The dataset provides valuable insights into the characteristics and trends of vehicles listed in the US market.\n",
        "Key features such as model year, price, odometer reading, and vehicle type can help potential buyers and sellers make informed decisions.\n",
        "Further analysis could focus on exploring relationships between different variables, such as the impact of mileage on price or the correlation between vehicle condition and type."
      ]
    }
  ],
  "metadata": {
    "colab": {
      "collapsed_sections": [
        "exIY1CeTVxIm",
        "ChQirITeVxIw",
        "Uy4hKpB0XZyi",
        "btmnE6ETYt5B"
      ],
      "provenance": [],
      "toc_visible": true
    },
    "kernelspec": {
      "display_name": "Python 3",
      "language": "python",
      "name": "python3"
    },
    "language_info": {
      "codemirror_mode": {
        "name": "ipython",
        "version": 3
      },
      "file_extension": ".py",
      "mimetype": "text/x-python",
      "name": "python",
      "nbconvert_exporter": "python",
      "pygments_lexer": "ipython3",
      "version": "3.11.4"
    }
  },
  "nbformat": 4,
  "nbformat_minor": 0
}
